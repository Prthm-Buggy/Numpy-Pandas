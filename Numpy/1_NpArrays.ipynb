{
 "cells": [
  {
   "cell_type": "code",
   "execution_count": null,
   "metadata": {},
   "outputs": [],
   "source": [
    "#what is NumPy?\n",
    "#NumPy is a Python library used for working with arrays.\n",
    "#It also has functions for working in domain of linear algebra, fourier transform, and matrices.\n",
    "#NumPy was created in 2005 by Travis Oliphant. It is an open source project and you can use it freely.\n",
    "#NumPy stands for Numerical Python.\n",
    "#Import numpy as np"
   ]
  },
  {
   "cell_type": "code",
   "execution_count": null,
   "metadata": {},
   "outputs": [
    {
     "name": "stdout",
     "output_type": "stream",
     "text": [
      "[2 4 6]\n"
     ]
    }
   ],
   "source": [
    "#create single a NumPy array\n",
    "import numpy as np"
   ]
  },
  {
   "cell_type": "code",
   "execution_count": 2,
   "metadata": {},
   "outputs": [
    {
     "name": "stdout",
     "output_type": "stream",
     "text": [
      "Python List: [[1, 2, 3, 4, 5]]\n",
      "NumPy Array: [[1 2 3 4 5]]\n"
     ]
    }
   ],
   "source": [
    "# Creating a NumPy array from a Python list\n",
    "my_list = [[1, 2, 3, 4, 5]]\n",
    "my_array = np.array(my_list) # Convert the list to a NumPy array\n",
    "\n",
    "print(\"Python List:\", my_list)\n",
    "print(\"NumPy Array:\", my_array)"
   ]
  },
  {
   "cell_type": "code",
   "execution_count": 52,
   "metadata": {},
   "outputs": [
    {
     "name": "stdout",
     "output_type": "stream",
     "text": [
      "The 2D NumPy array is: \n",
      " [[2 4 6]\n",
      " [1 3 5]]\n"
     ]
    }
   ],
   "source": [
    "#create a 2D NumPy array\n",
    "Num_values = np.array([[2,4,6],[1,3,5]])\n",
    "print(f'The 2D NumPy array is: \\n {Num_values}')"
   ]
  },
  {
   "cell_type": "code",
   "execution_count": 30,
   "metadata": {},
   "outputs": [
    {
     "name": "stdout",
     "output_type": "stream",
     "text": [
      "The 3D NumPy array is: \n",
      " [[[ 2  4  6]\n",
      "  [ 1  3  5]\n",
      "  [ 7  9 11]]]\n"
     ]
    }
   ],
   "source": [
    "#Create a 3D NumPy array\n",
    "Num_values = np.array([\n",
    "    [[2,4,6],\n",
    "     [1,3,5],\n",
    "    [7,9,11]]\n",
    "])\n",
    "print(f'The 3D NumPy array is: \\n {Num_values}')\n",
    "\n"
   ]
  },
  {
   "cell_type": "code",
   "execution_count": 53,
   "metadata": {},
   "outputs": [
    {
     "name": "stdout",
     "output_type": "stream",
     "text": [
      "1D Array: [1 2 3 4 5]\n",
      "2D Array:\n",
      " [[1 2 3]\n",
      " [4 5 6]]\n",
      "Element at index 2 in arr1: 3\n",
      "Elements from index 1 to 3 in arr1: [2 3 4]\n",
      "Element at row 1, column 2 in arr2: 6\n",
      "First two rows and columns in arr2:\n",
      " [[1 2]\n",
      " [4 5]]\n"
     ]
    }
   ],
   "source": [
    "arr1 = np.array([1, 2, 3, 4, 5])\n",
    "print(\"1D Array:\", arr1)\n",
    "arr2 = np.array([[1, 2, 3], [4, 5, 6]])\n",
    "print(\"2D Array:\\n\", arr2)\n",
    "\n",
    "print(\"Element at index 2 in arr1:\", arr1[2])\n",
    "print(\"Elements from index 1 to 3 in arr1:\", arr1[1:4])\n",
    "print(\"Element at row 1, column 2 in arr2:\", arr2[1, 2])\n",
    "print(\"First two rows and columns in arr2:\\n\", arr2[:2, :2])"
   ]
  },
  {
   "cell_type": "code",
   "execution_count": 44,
   "metadata": {},
   "outputs": [
    {
     "name": "stdout",
     "output_type": "stream",
     "text": [
      "The number of dimensions in the NumPy array is: 3\n"
     ]
    }
   ],
   "source": [
    "#ndim\n",
    "#NumPy arrays have an attribute called ndim that returns the number of dimensions that the array has.\n",
    "numberOfDimensions = Num_values.ndim\n",
    "print(f'The number of dimensions in the NumPy array is: {numberOfDimensions}')"
   ]
  },
  {
   "cell_type": "code",
   "execution_count": 3,
   "metadata": {},
   "outputs": [
    {
     "name": "stdout",
     "output_type": "stream",
     "text": [
      "[10 11 12 13 14 15 16 17 18 19 20 21 22 23 24 25 26 27 28 29 30 31 32 33\n",
      " 34 35 36 37 38 39 40 41 42 43 44 45 46 47 48 49]\n",
      "The 5th elemet in the arrary is :14\n",
      "[13 14 15 16 17]\n"
     ]
    }
   ],
   "source": [
    "# Create a 1D NumPy array with elements from 10 to 50.\n",
    "array_values = np.arange(10,50)\n",
    "print(array_values)\n",
    "# Access the 5th element of the array you created in question 1.\n",
    "print(f'The 5th elemet in the arrary is :{array_values[4]}')\n",
    "# Slice the array to get elements from index 3 to 8.\n",
    "print(f'{array_values[3:8]}')"
   ]
  },
  {
   "cell_type": "code",
   "execution_count": null,
   "metadata": {},
   "outputs": [
    {
     "name": "stdout",
     "output_type": "stream",
     "text": [
      "Adding the two arrays element wise: [20 22 24 26 28 30 32 34 36 38 40 42 44 46 48 50 52 54 56 58 60 62 64 66\n",
      " 68 70 72 74 76 78 80 82 84 86 88 90 92 94 96 98]\n",
      "The Sum i: 1180\n",
      "Mean is : 29.5\n",
      "11.543396380615196\n",
      "['10' '11' '12' '13' '14' '15' '16' '17' '18' '19' '20' '21' '22' '23'\n",
      " '24' '25' '26' '27' '28' '29' '30' '31' '32' '33' '34' '35' '36' '37'\n",
      " '38' '39' '40' '41' '42' '43' '44' '45' '46' '47' '48' '49']\n"
     ]
    }
   ],
   "source": [
    "#add the two arrays element wise\n",
    "print(f'Adding the two arrays element wise: {array_values + array_values}')\n",
    "print(f'The Sum i:',sum(array_values))\n",
    "print(f'Mean is :',np.mean(array_values))\n",
    "print(np.std(array_values))"
   ]
  },
  {
   "cell_type": "code",
   "execution_count": 5,
   "metadata": {},
   "outputs": [
    {
     "name": "stdout",
     "output_type": "stream",
     "text": [
      "['10' '11' '12' '13' '14' '15' '16' '17' '18' '19' '20' '21' '22' '23'\n",
      " '24' '25' '26' '27' '28' '29' '30' '31' '32' '33' '34' '35' '36' '37'\n",
      " '38' '39' '40' '41' '42' '43' '44' '45' '46' '47' '48' '49']\n"
     ]
    }
   ],
   "source": [
    "#convert the array to a string\n",
    "convert = array_values.astype(str)\n",
    "print(convert)"
   ]
  },
  {
   "cell_type": "code",
   "execution_count": 7,
   "metadata": {},
   "outputs": [
    {
     "name": "stdout",
     "output_type": "stream",
     "text": [
      "1D Array: [10 11 12 13 14 15 16 17 18 19 20 21 22 23 24 25 26 27 28 29 30 31 32 33\n",
      " 34 35 36 37 38 39 40 41 42 43 44 45 46 47 48 49 50]\n",
      "5th element: 14\n",
      "Elements from index 3 to 8: [13 14 15 16 17 18]\n",
      "Second 1D Array: [50 51 52 53 54 55 56 57 58 59 60 61 62 63 64 65 66 67 68 69 70 71 72 73\n",
      " 74 75 76 77 78 79 80 81 82 83 84 85 86 87 88 89 90]\n",
      "Element-wise addition: [ 60  62  64  66  68  70  72  74  76  78  80  82  84  86  88  90  92  94\n",
      "  96  98 100 102 104 106 108 110 112 114 116 118 120 122 124 126 128 130\n",
      " 132 134 136 138 140]\n"
     ]
    }
   ],
   "source": [
    "# 1. Create a 1D array\n",
    "arr1 = np.arange(10, 51)\n",
    "print(\"1D Array:\", arr1)\n",
    "# 2. Array Indexing\n",
    "print(\"5th element:\", arr1[4])\n",
    "# 3. Array Slicing\n",
    "print(\"Elements from index 3 to 8:\", arr1[3:9])\n",
    "# 4. Basic Arithmetic Operations\n",
    "arr2 = np.arange(50, 91)\n",
    "print(\"Second 1D Array:\", arr2)\n",
    "# Element-wise addition\n",
    "print(\"Element-wise addition:\", arr1 + arr2[:len(arr1)])"
   ]
  },
  {
   "cell_type": "code",
   "execution_count": null,
   "metadata": {},
   "outputs": [
    {
     "name": "stdout",
     "output_type": "stream",
     "text": [
      "Element-wise multiplication: [ 500  561  624  689  756  825  896  969 1044 1121 1200 1281 1364 1449\n",
      " 1536 1625 1716 1809 1904 2001 2100 2201 2304 2409 2516 2625 2736 2849\n",
      " 2964 3081 3200 3321 3444 3569 3696 3825 3956 4089 4224 4361 4500]\n",
      "Sum of arr1: 1230\n",
      "Mean of arr1: 30.0\n",
      "Standard deviation of arr1: 11.832159566199232\n",
      "Dot product: 91840\n",
      "Random array: [0.66779616 0.51837113 0.37602788 0.19916761 0.57745571 0.67673011\n",
      " 0.12578928 0.94970354 0.29996401 0.38285656]\n",
      "Random integers: [38 87 19 44 43 54 48  5 59 76]\n"
     ]
    }
   ],
   "source": [
    "# Element-wise multiplication\n",
    "print(\"Element-wise multiplication:\", arr1 * arr2[:len(arr1)])\n",
    "# 5. Aggregation Functions\n",
    "print(\"Sum of arr1:\", np.sum(arr1))\n",
    "print(\"Mean of arr1:\", np.mean(arr1))\n",
    "print(\"Standard deviation of arr1:\", np.std(arr1))\n",
    "# 6. Dot Product\n",
    "print(\"Dot product:\", np.dot(arr1, arr2[:len(arr1)]))\n",
    "# 7. Generating Random Numbers\n",
    "random_arr = np.random.rand(10)\n",
    "print(\"Random array:\", random_arr)\n",
    "random_ints = np.random.randint(1, 101, size=10)\n",
    "print(\"Random integers:\", random_ints)"
   ]
  }
 ],
 "metadata": {
  "kernelspec": {
   "display_name": "Python 3",
   "language": "python",
   "name": "python3"
  },
  "language_info": {
   "codemirror_mode": {
    "name": "ipython",
    "version": 3
   },
   "file_extension": ".py",
   "mimetype": "text/x-python",
   "name": "python",
   "nbconvert_exporter": "python",
   "pygments_lexer": "ipython3",
   "version": "3.12.4"
  }
 },
 "nbformat": 4,
 "nbformat_minor": 2
}
