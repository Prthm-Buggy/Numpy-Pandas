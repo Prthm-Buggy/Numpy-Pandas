{
 "cells": [
  {
   "cell_type": "code",
   "execution_count": null,
   "id": "d3f18d0a",
   "metadata": {},
   "outputs": [],
   "source": []
  },
  {
   "cell_type": "code",
   "execution_count": null,
   "id": "e8a0371a",
   "metadata": {},
   "outputs": [],
   "source": []
  }
 ],
 "metadata": {
  "language_info": {
   "name": "python"
  }
 },
 "nbformat": 4,
 "nbformat_minor": 5
}
