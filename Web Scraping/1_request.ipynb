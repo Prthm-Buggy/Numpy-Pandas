{
 "cells": [
  {
   "cell_type": "code",
   "execution_count": 24,
   "id": "36eb19ab",
   "metadata": {},
   "outputs": [
    {
     "name": "stdout",
     "output_type": "stream",
     "text": [
      "Requirement already satisfied: requests in c:\\users\\prath\\appdata\\local\\programs\\python\\python312\\lib\\site-packages (2.32.3)\n",
      "Requirement already satisfied: charset-normalizer<4,>=2 in c:\\users\\prath\\appdata\\local\\programs\\python\\python312\\lib\\site-packages (from requests) (3.4.0)\n",
      "Requirement already satisfied: idna<4,>=2.5 in c:\\users\\prath\\appdata\\local\\programs\\python\\python312\\lib\\site-packages (from requests) (2.10)\n",
      "Requirement already satisfied: urllib3<3,>=1.21.1 in c:\\users\\prath\\appdata\\local\\programs\\python\\python312\\lib\\site-packages (from requests) (2.5.0)\n",
      "Requirement already satisfied: certifi>=2017.4.17 in c:\\users\\prath\\appdata\\local\\programs\\python\\python312\\lib\\site-packages (from requests) (2025.6.15)\n"
     ]
    },
    {
     "name": "stderr",
     "output_type": "stream",
     "text": [
      "\n",
      "[notice] A new release of pip is available: 24.3.1 -> 25.1.1\n",
      "[notice] To update, run: python.exe -m pip install --upgrade pip\n"
     ]
    }
   ],
   "source": [
    "! pip install requests\n",
    "import requests"
   ]
  },
  {
   "cell_type": "code",
   "execution_count": 25,
   "id": "33ba5d4c",
   "metadata": {},
   "outputs": [
    {
     "name": "stdout",
     "output_type": "stream",
     "text": [
      "successful\n"
     ]
    }
   ],
   "source": [
    "import requests\n",
    "\n",
    "url = 'https://youtube.com/watch?v=9bZkp7q19f0'  # Example URL, replace with the desired one\n",
    "response = requests.get(url)\n",
    "# Check if the request was successful\n",
    "print(\"successful\" if response.status_code == 200 else \"Page not found\" if response.status_code == 404 else \"Something went wrong\")"
   ]
  },
  {
   "cell_type": "code",
   "execution_count": 26,
   "id": "4aee4b7d",
   "metadata": {},
   "outputs": [],
   "source": [
    "response.raise_for_status()  # Throws error for bad requests"
   ]
  },
  {
   "cell_type": "code",
   "execution_count": 27,
   "id": "ac09a904",
   "metadata": {},
   "outputs": [
    {
     "name": "stdout",
     "output_type": "stream",
     "text": [
      "{'login': 'octocat', 'id': 583231, 'node_id': 'MDQ6VXNlcjU4MzIzMQ==', 'avatar_url': 'https://avatars.githubusercontent.com/u/583231?v=4', 'gravatar_id': '', 'url': 'https://api.github.com/users/octocat', 'html_url': 'https://github.com/octocat', 'followers_url': 'https://api.github.com/users/octocat/followers', 'following_url': 'https://api.github.com/users/octocat/following{/other_user}', 'gists_url': 'https://api.github.com/users/octocat/gists{/gist_id}', 'starred_url': 'https://api.github.com/users/octocat/starred{/owner}{/repo}', 'subscriptions_url': 'https://api.github.com/users/octocat/subscriptions', 'organizations_url': 'https://api.github.com/users/octocat/orgs', 'repos_url': 'https://api.github.com/users/octocat/repos', 'events_url': 'https://api.github.com/users/octocat/events{/privacy}', 'received_events_url': 'https://api.github.com/users/octocat/received_events', 'type': 'User', 'user_view_type': 'public', 'site_admin': False, 'name': 'The Octocat', 'company': '@github', 'blog': 'https://github.blog', 'location': 'San Francisco', 'email': None, 'hireable': None, 'bio': None, 'twitter_username': None, 'public_repos': 8, 'public_gists': 8, 'followers': 18592, 'following': 9, 'created_at': '2011-01-25T18:44:36Z', 'updated_at': '2025-06-22T11:21:58Z'}\n",
      "The Octocat\n",
      "8\n"
     ]
    }
   ],
   "source": [
    "url = \"https://api.github.com/users/octocat\"\n",
    "response = requests.get(url)\n",
    "\n",
    "data = response.json()\n",
    "print(data)\n",
    "print(data['name'])        # The Octocat\n",
    "print(data['public_repos'])  # e.g., 8"
   ]
  },
  {
   "cell_type": "code",
   "execution_count": 28,
   "id": "5797eb30",
   "metadata": {},
   "outputs": [
    {
     "name": "stdout",
     "output_type": "stream",
     "text": [
      "Name: raichu\n",
      "Height: 8\n",
      "Weight: 300\n",
      "Id: 26\n",
      "Pokemon data extracted successfully!\n"
     ]
    }
   ],
   "source": [
    "url = \"https://pokeapi.co/api/v2\"  # Example URL for a Pokémon API\n",
    "response = requests.get(url)\n",
    "\n",
    "def pokemon_info(name):\n",
    "    url = f\"https://pokeapi.co/api/v2/pokemon/{name}\"\n",
    "    response = requests.get(url)\n",
    "    if response.status_code == 200:\n",
    "        return response.json()\n",
    "    else:\n",
    "        return None\n",
    "\n",
    "pokemon_name = \"raichu\"  # Example Pokémon name, replace with the desired one\n",
    "response = requests.get(f\"https://pokeapi.co/api/v2/pokemon/{pokemon_name}\")\n",
    "\n",
    "if response.status_code == 200:\n",
    "    data = response.json()\n",
    "    print(f'Name:', data['name'])\n",
    "    print(f'Height:', data['height'])\n",
    "    print(f'Weight:', data['weight'])\n",
    "    print(f'Id:', data['id'])\n",
    "    print(f\"Pokemon data extracted successfully!\")\n",
    "else:\n",
    "    print(f\"Error: Pokémon '{pokemon_name}' not found (status code {response.status_code})\")\n",
    "    print(f'failed to extract Pokémon data for {pokemon_name}')"
   ]
  },
  {
   "cell_type": "code",
   "execution_count": 29,
   "id": "cb107cc6",
   "metadata": {},
   "outputs": [],
   "source": [
    "url = 'https://in.pinterest.com/pin/44050902599444305/'\n",
    "response = requests.get(url)\n",
    "\n",
    "with open('image.png', 'wb') as f:\n",
    "    f.write(response.content)\n"
   ]
  },
  {
   "cell_type": "code",
   "execution_count": 30,
   "id": "1937c962",
   "metadata": {},
   "outputs": [
    {
     "name": "stdout",
     "output_type": "stream",
     "text": [
      "{'x-xss-protection': '1; mode=block', 'x-content-type-options': 'nosniff', 'Vary': 'User-Agent, Accept-Encoding', 'x-ua-compatible': 'IE=edge', 'reporting-endpoints': 'coop-endpoint=\"https://www.pinterest.com/_/_/coop_report/\", coep-endpoint=\"https://www.pinterest.com/_/_/coep_report/\"', 'cross-origin-opener-policy-report-only': 'same-origin; report-to=\"coop-endpoint\"', 'p3p': 'CP=\"This is not a P3P policy. See https://www.pinterest.com/_/_/help/articles/pinterest-and-p3p for more info.\"', 'Content-Security-Policy': \"default-src 'self' blob: s.pinimg.com; font-src 'self' m.media-amazon.com *.amazon-adsystem.com s.pinimg.com data: fonts.googleapis.com fonts.gstatic.com use.typekit.net; style-src 'self' blob: 'unsafe-inline' data: *.pinimg.com *.pinterest.com accounts.google.com fonts.googleapis.com *.adyen.com *.adyenpayments.com; img-src blob: data: *; base-uri 'none'; connect-src 'self' blob: m.media-amazon.com *.amazon-adsystem.com htlb.casalemedia.com *.ada.support *.pinimg.com *.pinterest.com accounts.google.com *.adyen.com pinterest-salvador.s3.amazonaws.com *.adyenpayments.com *.facebook.com www.recaptcha.net www.googleapis.com *.dropboxapi.com pinterest-aberdeen.s3.amazonaws.com pinterest-aberdeen.s3.us-east-1.amazonaws.com pinterest-anaheim.s3.amazonaws.com pinterest-anaheim.s3.us-east-1.amazonaws.com pinterest-hilo.s3.amazonaws.com pinterest-hilo.s3.us-east-1.amazonaws.com pinterest-sim-toontown.s3.amazonaws.com pinterest-sim-toontown.s3.us-east-1.amazonaws.com pinterest-media-upload.s3.amazonaws.com pinterest-media-upload.s3.us-east-1.amazonaws.com pinterest-media-upload.s3-accelerate.amazonaws.com pinterest-media-upload.s3-accelerate.us-east-1.amazonaws.com pinterest-milwaukee.s3.amazonaws.com pinterest-milwaukee.s3.us-east-1.amazonaws.com pinterest-poughkeepsie.s3.amazonaws.com pinterest-poughkeepsie.s3.us-east-1.amazonaws.com pinterest-waterloo.s3.amazonaws.com pinterest-waterloo.s3.us-east-1.amazonaws.com pinterest-plymouth.s3.amazonaws.com pinterest-plymouth.s3.us-east-1.amazonaws.com pinterest-salvador.s3.us-east-1.amazonaws.com pinterest-yamagata.s3.amazonaws.com pinterest-yamagata.s3.us-east-1.amazonaws.com *.cedexis.com *.cedexis-radar.net *.tvpixel.com api.pinadmin.com *.live-video.net https://*.daily.co https://*.pluot.blue wss://*.wss.daily.co api.basistheory.com; form-action 'self' *.adyen.com *.klarna.com *.tink.com *.adyenpayments.com; frame-src 'self' *.ada.support *.pinimg.com *.pinterest.com *.adyen.com static-sandbox.dlocal.com static.dlocal.com *.google.com *.facebook.com www.recaptcha.net pinterest-hilo.s3.amazonaws.com pinterest-hilo.s3.us-east-1.amazonaws.com pinterest-sim-toontown.s3.amazonaws.com pinterest-sim-toontown.s3.us-east-1.amazonaws.com pinterest-milwaukee.s3.amazonaws.com pinterest-milwaukee.s3.us-east-1.amazonaws.com pinterest-waterloo.s3.amazonaws.com pinterest-waterloo.s3.us-east-1.amazonaws.com pinterest-tolu.s3.amazonaws.com *.pinterdev.com content.googleapis.com *.youtube.com *.youtube-nocookie.com *.ytimg.com player.vimeo.com calendly.com vine.co bid.g.doubleclick.net *.fls.doubleclick.net pinlogs.s3.amazonaws.com pinlogs.s3.us-east-1.amazonaws.com advertising-delivery-metric-reports.s3.amazonaws.com advertising-delivery-metric-reports.s3.us-east-1.amazonaws.com servedby.flashtalking.com pinterest-uk.admo.tv pinterest-uk-web.admo.tv fbrpc://call *.linkedin.com px.ads.linkedin.com api.basistheory.com js.basistheory.com 3ds.basistheory.com; media-src 'self' blob: m.media-amazon.com data: *.pinimg.com *.live-video.net; object-src 'self'; script-src 'nonce-4ed16d5fc664d25c72e6c89033275acf' 'strict-dynamic' 'self' blob: 'unsafe-inline' *.pinimg.com *.pinterest.com *.adyen.com js.dlocal.com js-sandbox.dlocal.com static-sandbox.dlocal.com static.dlocal.com *.adyenpayments.com 'report-sample' *.google.com connect.facebook.net *.google-analytics.com *.facebook.com *.googleadservices.com *.doubleclick.net *.googletagmanager.com radar.cedexis.com *.cedexis-test.com www.gstatic.com/recaptcha/ www.gstatic.cn/recaptcha/ www.recaptcha.net 'wasm-unsafe-eval' js.basistheory.com 3ds.basistheory.com; worker-src 'self' blob: 'unsafe-inline'; report-uri /_/_/csp_report/?rid=2136560474519946; frame-ancestors 'self' , script-src 'self' blob: 'unsafe-inline' *.pinimg.com *.pinterest.com *.adyen.com js.dlocal.com js-sandbox.dlocal.com static-sandbox.dlocal.com static.dlocal.com *.adyenpayments.com 'report-sample' *.google.com connect.facebook.net *.google-analytics.com *.facebook.com *.googleadservices.com *.doubleclick.net *.googletagmanager.com radar.cedexis.com *.cedexis-test.com www.gstatic.com/recaptcha/ www.gstatic.cn/recaptcha/ www.recaptcha.net 'wasm-unsafe-eval' js.basistheory.com 3ds.basistheory.com; report-uri /_/_/csp_report/?rid=2136560474519946\", 'x-frame-options': 'SAMEORIGIN', 'origin-trial': 'AvlUIFJouPpJAKljRGh7EnYm2Brnx/eu51h39Z7p11vbzNlw2YhkUhxvxZdkS709VlGGNw4Gcg/a9mAzHDrEcQ0AAAB5eyJvcmlnaW4iOiJodHRwczovL3BpbnRlcmVzdC5jb206NDQzIiwiZmVhdHVyZSI6IlNlbmRGdWxsVXNlckFnZW50QWZ0ZXJSZWR1Y3Rpb24iLCJleHBpcnkiOjE2ODQ4ODYzOTksImlzU3ViZG9tYWluIjp0cnVlfQ==', 'Accept-CH': 'Sec-CH-UA-Full,Sec-CH-UA-Full-Version-List,Sec-CH-UA-Model,Sec-CH-UA-Platform-Version', 'Content-Type': 'text/html; charset=utf-8', 'x-async-render': 'true', 'Link': '<https://i.pinimg.com>; rel=preconnect; crossorigin=anonymous, <https://s.pinimg.com>; rel=preconnect; crossorigin=anonymous, <https://v1.pinimg.com>; rel=preconnect; crossorigin=anonymous,<https://www.pinterest.com/oembed.json?url=https%3A%2F%2Fwww.pinterest.com%2Fpin%2F44050902599444305&ref=oembed-discovery>; rel=\"alternate\"; type=\"application/json+oembed\" title=\"Find inspiration on Pinterest today!\"', 'Trailer': 'x-pinterest-sli-streamed-response-type', 'x-envoy-upstream-service-time': '157', 'pinterest-generated-by': 'coreapp-webapp-prod-0a03f0cd', 'Content-Encoding': 'gzip', 'pinterest-version': 'a349e61', 'referrer-policy': 'origin', 'x-pinterest-rid': '2136560474519946', 'x-pinterest-rid-128bit': '9612a37e4907fef61da6966e7ce6c4b2', 'Date': 'Mon, 14 Jul 2025 07:39:11 GMT', 'Alt-Svc': 'h3=\":443\"; ma=604800', 'Transfer-Encoding': 'chunked', 'Connection': 'keep-alive, Transfer-Encoding', 'Set-Cookie': 'csrftoken=7c3f9a8545f77ba55116c1a45cd55378; path=/; expires=Tue, 14 Jul 2026 07:39:11 GMT; samesite=lax; secure, _pinterest_sess=TWc9PSYxK3p2ZEY2RGc2cG9OZVhvV29JMHZHWDR2UGJnMHFIUE5kMmxhQjYza2hlWFd3K0JTUGRwcHdFNEtZWlAvSnYzeTJTQ3pGZzVBVGxBNWhSSVJkQjBxQnU3b1g4UDVZNkRhQUdlaXJ2Y1Nzcz0mMFRPUk8zSStFWjNVdHdZUFZvTHNMaHNscWZNPQ==; path=/; expires=Thu, 09 Jul 2026 07:39:11 GMT; domain=.pinterest.com; samesite=none; secure; httponly, _auth=0; path=/; expires=Thu, 09 Jul 2026 07:39:11 GMT; domain=.pinterest.com; secure; httponly, _routing_id=\"a6736386-8dfb-4194-b244-ffe6db0edcf6\"; Max-Age=86400; Path=/; HttpOnly', 'AKAMAI-GRN': '0.bcf43717.1752478750.c6459082', 'X-CDN': 'akamai', 'Strict-Transport-Security': 'max-age=31536000 ; includeSubDomains ; preload'}\n",
      "<RequestsCookieJar[<Cookie csrftoken=7c3f9a8545f77ba55116c1a45cd55378 for in.pinterest.com/>, <Cookie _routing_id=\"a6736386-8dfb-4194-b244-ffe6db0edcf6\" for in.pinterest.com/>, <Cookie _pinterest_sess=TWc9PSYxK3p2ZEY2RGc2cG9OZVhvV29JMHZHWDR2UGJnMHFIUE5kMmxhQjYza2hlWFd3K0JTUGRwcHdFNEtZWlAvSnYzeTJTQ3pGZzVBVGxBNWhSSVJkQjBxQnU3b1g4UDVZNkRhQUdlaXJ2Y1Nzcz0mMFRPUk8zSStFWjNVdHdZUFZvTHNMaHNscWZNPQ== for .pinterest.com/>, <Cookie _auth=0 for .pinterest.com/>]>\n"
     ]
    }
   ],
   "source": [
    "print(response.headers)\n",
    "print(response.cookies)"
   ]
  },
  {
   "cell_type": "code",
   "execution_count": 31,
   "id": "7664940c",
   "metadata": {},
   "outputs": [
    {
     "name": "stdout",
     "output_type": "stream",
     "text": [
      "200\n",
      "{'authenticated': True, 'user': 'user'}\n"
     ]
    }
   ],
   "source": [
    "from requests.auth import HTTPBasicAuth\n",
    "\n",
    "response = requests.get('https://httpbin.org/basic-auth/user/pass',\n",
    "                        auth=HTTPBasicAuth('user', 'pass'))\n",
    "print(response.status_code)\n",
    "print(response.json())"
   ]
  },
  {
   "cell_type": "markdown",
   "id": "fb7ef159",
   "metadata": {},
   "source": [
    " 1. requests.get()\n",
    "Used to get (fetch) data from a URL."
   ]
  },
  {
   "cell_type": "code",
   "execution_count": 32,
   "id": "240f28a3",
   "metadata": {},
   "outputs": [
    {
     "name": "stdout",
     "output_type": "stream",
     "text": [
      "200\n",
      "{\n",
      "  \"current_user_url\": \"https://api.github.com/user\",\n",
      "  \"current_user_authorizations_html_url\": \"https://github.com/settings/connections/applications{/client_id}\",\n",
      "  \"authorizations_url\": \"https://api.github.com/authorizations\",\n",
      "  \"code_search_url\": \"https://api.github.com/search/code?q={query}{&page,per_page,sort,order}\",\n",
      "  \"commit_search_url\": \"https://api.github.com/search/commits?q={query}{&page,per_page,sort,order}\",\n",
      "  \"emails_url\": \"https://api.github.com/user/emails\",\n",
      "  \"emojis_url\": \"https://api.github.com/emojis\",\n",
      "  \"events_url\": \"https://api.github.com/events\",\n",
      "  \"feeds_url\": \"https://api.github.com/feeds\",\n",
      "  \"followers_url\": \"https://api.github.com/user/followers\",\n",
      "  \"following_url\": \"https://api.github.com/user/following{/target}\",\n",
      "  \"gists_url\": \"https://api.github.com/gists{/gist_id}\",\n",
      "  \"hub_url\": \"https://api.github.com/hub\",\n",
      "  \"issue_search_url\": \"https://api.github.com/search/issues?q={query}{&page,per_page,sort,order}\",\n",
      "  \"issues_url\": \"https://api.github.com/issues\",\n",
      "  \"keys_url\": \"https://api.github.com/user/keys\",\n",
      "  \"label_search_url\": \"https://api.github.com/search/labels?q={query}&repository_id={repository_id}{&page,per_page}\",\n",
      "  \"notifications_url\": \"https://api.github.com/notifications\",\n",
      "  \"organization_url\": \"https://api.github.com/orgs/{org}\",\n",
      "  \"organization_repositories_url\": \"https://api.github.com/orgs/{org}/repos{?type,page,per_page,sort}\",\n",
      "  \"organization_teams_url\": \"https://api.github.com/orgs/{org}/teams\",\n",
      "  \"public_gists_url\": \"https://api.github.com/gists/public\",\n",
      "  \"rate_limit_url\": \"https://api.github.com/rate_limit\",\n",
      "  \"repository_url\": \"https://api.github.com/repos/{owner}/{repo}\",\n",
      "  \"repository_search_url\": \"https://api.github.com/search/repositories?q={query}{&page,per_page,sort,order}\",\n",
      "  \"current_user_repositories_url\": \"https://api.github.com/user/repos{?type,page,per_page,sort}\",\n",
      "  \"starred_url\": \"https://api.github.com/user/starred{/owner}{/repo}\",\n",
      "  \"starred_gists_url\": \"https://api.github.com/gists/starred\",\n",
      "  \"topic_search_url\": \"https://api.github.com/search/topics?q={query}{&page,per_page}\",\n",
      "  \"user_url\": \"https://api.github.com/users/{user}\",\n",
      "  \"user_organizations_url\": \"https://api.github.com/user/orgs\",\n",
      "  \"user_repositories_url\": \"https://api.github.com/users/{user}/repos{?type,page,per_page,sort}\",\n",
      "  \"user_search_url\": \"https://api.github.com/search/users?q={query}{&page,per_page,sort,order}\"\n",
      "}\n",
      "\n"
     ]
    }
   ],
   "source": [
    "import requests\n",
    "\n",
    "response = requests.get('https://api.github.com')\n",
    "\n",
    "print(response.status_code)   # HTTP status code, like 200 (OK)\n",
    "print(response.text)          # Response content as a string\n"
   ]
  },
  {
   "cell_type": "markdown",
   "id": "b0a21749",
   "metadata": {},
   "source": [
    "2. requests.post()\n",
    "Used to send data (like login info, forms) to a server."
   ]
  },
  {
   "cell_type": "code",
   "execution_count": 33,
   "id": "9155ec41",
   "metadata": {},
   "outputs": [
    {
     "name": "stdout",
     "output_type": "stream",
     "text": [
      "{'name': 'pratham', 'age': 20}\n",
      "\n",
      "The connection is successful 200\n",
      "{'args': {}, 'data': '{\"name\": \"pratham\", \"age\": 20}', 'files': {}, 'form': {}, 'headers': {'Accept': '*/*', 'Accept-Encoding': 'gzip, deflate', 'Content-Length': '30', 'Content-Type': 'application/json', 'Host': 'httpbin.org', 'User-Agent': 'python-requests/2.32.3', 'X-Amzn-Trace-Id': 'Root=1-6874b421-3d9755ba3b590525235f23e7'}, 'json': {'age': 20, 'name': 'pratham'}, 'origin': '103.87.31.195', 'url': 'https://httpbin.org/post'}\n"
     ]
    }
   ],
   "source": [
    "data = {\"name\":\"pratham\", \"age\": 20}\n",
    "response  = requests.post('https://httpbin.org/post', json=data)\n",
    "print(data)\n",
    "print()\n",
    "print(f'The connection is successful {response.status_code}' if response.status_code == 200 else 'failed')\n",
    "print(response.json()) "
   ]
  },
  {
   "cell_type": "markdown",
   "id": "80711004",
   "metadata": {},
   "source": [
    " 3. requests.put()\n",
    "Used to update existing data on the server."
   ]
  },
  {
   "cell_type": "code",
   "execution_count": 34,
   "id": "724be7a7",
   "metadata": {},
   "outputs": [
    {
     "name": "stdout",
     "output_type": "stream",
     "text": [
      "200\n",
      "{\n",
      "  \"args\": {}, \n",
      "  \"data\": \"\", \n",
      "  \"files\": {}, \n",
      "  \"form\": {\n",
      "    \"name\": \"Prathamesh Talele\"\n",
      "  }, \n",
      "  \"headers\": {\n",
      "    \"Accept\": \"*/*\", \n",
      "    \"Accept-Encoding\": \"gzip, deflate\", \n",
      "    \"Content-Length\": \"22\", \n",
      "    \"Content-Type\": \"application/x-www-form-urlencoded\", \n",
      "    \"Host\": \"httpbin.org\", \n",
      "    \"User-Agent\": \"python-requests/2.32.3\", \n",
      "    \"X-Amzn-Trace-Id\": \"Root=1-6874b422-6b286e94753fe96f2ec3336a\"\n",
      "  }, \n",
      "  \"json\": null, \n",
      "  \"origin\": \"103.87.31.195\", \n",
      "  \"url\": \"https://httpbin.org/put\"\n",
      "}\n",
      "\n"
     ]
    }
   ],
   "source": [
    "data = {'name': 'Prathamesh Talele'}\n",
    "\n",
    "response = requests.put('https://httpbin.org/put', data=data)\n",
    "\n",
    "print(response.status_code)\n",
    "print(response.text)"
   ]
  },
  {
   "cell_type": "markdown",
   "id": "0ea2c57e",
   "metadata": {},
   "source": [
    "4. requests.delete()\n",
    "Used to delete data on the server."
   ]
  },
  {
   "cell_type": "code",
   "execution_count": 35,
   "id": "d7b1c5f5",
   "metadata": {},
   "outputs": [
    {
     "name": "stdout",
     "output_type": "stream",
     "text": [
      "The connection is successful 200\n",
      "{\n",
      "  \"args\": {}, \n",
      "  \"data\": \"\", \n",
      "  \"files\": {}, \n",
      "  \"form\": {}, \n",
      "  \"headers\": {\n",
      "    \"Accept\": \"*/*\", \n",
      "    \"Accept-Encoding\": \"gzip, deflate\", \n",
      "    \"Content-Length\": \"0\", \n",
      "    \"Host\": \"httpbin.org\", \n",
      "    \"User-Agent\": \"python-requests/2.32.3\", \n",
      "    \"X-Amzn-Trace-Id\": \"Root=1-6874b423-4747abfe644b345d5c75243d\"\n",
      "  }, \n",
      "  \"json\": null, \n",
      "  \"origin\": \"103.87.31.195\", \n",
      "  \"url\": \"https://httpbin.org/delete\"\n",
      "}\n",
      "\n"
     ]
    }
   ],
   "source": [
    "respone = requests.delete('https://httpbin.org/delete' )\n",
    "\n",
    "print(f'The connection is successful {respone.status_code}' if respone.status_code == 200 else \"failed\")\n",
    "print(respone.text)"
   ]
  },
  {
   "cell_type": "markdown",
   "id": "8240c821",
   "metadata": {},
   "source": [
    " 5. requests.head()\n",
    "Sends a request just for the headers (not the content). Useful to check if a page exists."
   ]
  },
  {
   "cell_type": "code",
   "execution_count": 36,
   "id": "9adf7d5f",
   "metadata": {},
   "outputs": [
    {
     "name": "stdout",
     "output_type": "stream",
     "text": [
      "{'Date': 'Mon, 14 Jul 2025 07:39:16 GMT', 'Content-Type': 'application/json', 'Content-Length': '307', 'Connection': 'keep-alive', 'Server': 'gunicorn/19.9.0', 'Access-Control-Allow-Origin': '*', 'Access-Control-Allow-Credentials': 'true'}\n"
     ]
    }
   ],
   "source": [
    "response = requests.head('https://httpbin.org/get')\n",
    "print(response.headers)\n"
   ]
  },
  {
   "cell_type": "markdown",
   "id": "d6b81425",
   "metadata": {},
   "source": [
    "6. requests.options()\n",
    "Used to find out what methods are allowed on a server (like GET, POST, etc.)"
   ]
  },
  {
   "cell_type": "code",
   "execution_count": 37,
   "id": "1e6bfea6",
   "metadata": {},
   "outputs": [
    {
     "name": "stdout",
     "output_type": "stream",
     "text": [
      "GET, HEAD, OPTIONS\n"
     ]
    }
   ],
   "source": [
    "response = requests.options('https://httpbin.org')\n",
    "print(response.headers['Allow'])  # Example header, replace with the desired one"
   ]
  },
  {
   "cell_type": "code",
   "execution_count": 38,
   "id": "b6ae21c5",
   "metadata": {},
   "outputs": [
    {
     "name": "stdout",
     "output_type": "stream",
     "text": [
      "https://httpbin.org/get?search=python\n"
     ]
    }
   ],
   "source": [
    "params = {'search': 'python'}\n",
    "\n",
    "response = requests.get('https://httpbin.org/get', params=params)\n",
    "\n",
    "print(response.url)  # See the full URL\n"
   ]
  },
  {
   "cell_type": "code",
   "execution_count": 39,
   "id": "158cb67d",
   "metadata": {},
   "outputs": [
    {
     "name": "stdout",
     "output_type": "stream",
     "text": [
      "Success!\n",
      "{\n",
      "  \"args\": {}, \n",
      "  \"data\": \"\", \n",
      "  \"files\": {}, \n",
      "  \"form\": {\n",
      "    \"username\": \"pratham\"\n",
      "  }, \n",
      "  \"headers\": {\n",
      "    \"Accept\": \"*/*\", \n",
      "    \"Accept-Encoding\": \"gzip, deflate\", \n",
      "    \"Content-Length\": \"16\", \n",
      "    \"Content-Type\": \"application/x-www-form-urlencoded\", \n",
      "    \"Host\": \"httpbin.org\", \n",
      "    \"User-Agent\": \"myapp/1.0\", \n",
      "    \"X-Amzn-Trace-Id\": \"Root=1-6874b427-7032dcd014ebb7227a45a6aa\"\n",
      "  }, \n",
      "  \"json\": null, \n",
      "  \"origin\": \"103.87.31.195\", \n",
      "  \"url\": \"https://httpbin.org/post\"\n",
      "}\n",
      "\n"
     ]
    }
   ],
   "source": [
    "url = \"https://httpbin.org/post\"\n",
    "headers = {\"User-Agent\": \"myapp/1.0\"}\n",
    "data = {\"username\": \"pratham\"}\n",
    "\n",
    "response = requests.post(url, headers=headers, data=data)\n",
    "\n",
    "if response.status_code == 200:\n",
    "    print(\"Success!\")\n",
    "    print(response.text)\n",
    "else:\n",
    "    print(\"Failed\")\n"
   ]
  },
  {
   "cell_type": "code",
   "execution_count": 40,
   "id": "aa61569b",
   "metadata": {},
   "outputs": [
    {
     "name": "stdout",
     "output_type": "stream",
     "text": [
      "Scraping Amazon.in for 'laptop'...\n",
      "\n",
      "Scraping: https://www.amazon.in/s?k=laptop&page=1\n",
      "Scraping: https://www.amazon.in/s?k=laptop&page=2\n",
      "Scraping: https://www.amazon.in/s?k=laptop&page=3\n",
      "Scraping: https://www.amazon.in/s?k=laptop&page=4\n",
      "Scraping: https://www.amazon.in/s?k=laptop&page=5\n",
      "Saved 104 products to amazon_laptops_advanced.csv\n"
     ]
    }
   ],
   "source": [
    "import requests\n",
    "from bs4 import BeautifulSoup\n",
    "import pandas as pd\n",
    "import time\n",
    "import random\n",
    "from urllib.parse import quote_plus\n",
    "\n",
    "# ---------- CONFIGURABLE PART ----------\n",
    "SEARCH_QUERY = \"laptop\"\n",
    "BASE_URL = \"https://www.amazon.in\"\n",
    "MAX_PAGES = 5  # Number of pages to scrape\n",
    "OUTPUT_FILE = \"amazon_laptops_advanced.csv\"\n",
    "\n",
    "HEADERS_LIST = [\n",
    "    {\n",
    "        \"User-Agent\": \"Mozilla/5.0 (Windows NT 10.0; Win64; x64)\",\n",
    "        \"Accept-Language\": \"en-US,en;q=0.9\"\n",
    "    },\n",
    "    {\n",
    "        \"User-Agent\": \"Mozilla/5.0 (Macintosh; Intel Mac OS X 10_15_7)\",\n",
    "        \"Accept-Language\": \"en-US,en;q=0.8\"\n",
    "    },\n",
    "    {\n",
    "        \"User-Agent\": \"Mozilla/5.0 (X11; Linux x86_64)\",\n",
    "        \"Accept-Language\": \"en-GB,en;q=0.7\"\n",
    "    }\n",
    "]\n",
    "\n",
    "# ---------- FUNCTION TO SCRAPE ONE PAGE ----------\n",
    "def scrape_page(url):\n",
    "    print(f\"Scraping: {url}\")\n",
    "    headers = random.choice(HEADERS_LIST)\n",
    "    response = requests.get(url, headers=headers)\n",
    "\n",
    "    if response.status_code != 200:\n",
    "        print(f\"Failed to fetch page: {url}, Status Code: {response.status_code}\")\n",
    "        return []\n",
    "\n",
    "    soup = BeautifulSoup(response.text, \"lxml\")\n",
    "    items = soup.select(\"div.s-main-slot div[data-component-type='s-search-result']\")\n",
    "\n",
    "    product_list = []\n",
    "\n",
    "    for item in items:\n",
    "        title = item.h2.text.strip() if item.h2 else None\n",
    "        link = BASE_URL + item.h2.a['href'] if item.h2 and item.h2.a else None\n",
    "\n",
    "        price_whole = item.select_one(\"span.a-price-whole\")\n",
    "        price = price_whole.text.strip().replace(\",\", \"\") if price_whole else None\n",
    "\n",
    "        rating = item.select_one(\"span.a-icon-alt\")\n",
    "        rating = rating.text.strip() if rating else None\n",
    "\n",
    "        reviews = item.select_one(\"span.a-size-base\")\n",
    "        reviews = reviews.text.strip() if reviews else None\n",
    "\n",
    "        product = {\n",
    "            \"Title\": title,\n",
    "            \"Price (INR)\": price,\n",
    "            \"Rating\": rating,\n",
    "            \"Review Count\": reviews,\n",
    "            \"Product URL\": link\n",
    "        }\n",
    "        product_list.append(product)\n",
    "\n",
    "    return product_list\n",
    "\n",
    "# ---------- MAIN SCRAPER LOOP ----------\n",
    "def scrape_amazon(query, max_pages=1):\n",
    "    all_products = []\n",
    "    page = 1\n",
    "\n",
    "    while page <= max_pages:\n",
    "        search_url = f\"{BASE_URL}/s?k={quote_plus(query)}&page={page}\"\n",
    "        products = scrape_page(search_url)\n",
    "\n",
    "        if not products:\n",
    "            print(\"No products found or blocked. Stopping.\")\n",
    "            break\n",
    "\n",
    "        all_products.extend(products)\n",
    "\n",
    "        # Random sleep to avoid blocking\n",
    "        time.sleep(random.uniform(2, 5))\n",
    "        page += 1\n",
    "\n",
    "    return all_products\n",
    "\n",
    "# ---------- SAVE RESULTS ----------\n",
    "def save_to_csv(products, filename):\n",
    "    df = pd.DataFrame(products)\n",
    "    df.to_csv(filename, index=False)\n",
    "    print(f\"Saved {len(products)} products to {filename}\")\n",
    "\n",
    "# ---------- RUNNING THE SCRAPER ----------\n",
    "if __name__ == \"__main__\":\n",
    "    print(f\"Scraping Amazon.in for '{SEARCH_QUERY}'...\\n\")\n",
    "    data = scrape_amazon(SEARCH_QUERY, MAX_PAGES)\n",
    "    save_to_csv(data, OUTPUT_FILE)\n"
   ]
  },
  {
   "cell_type": "code",
   "execution_count": 41,
   "id": "dae95788",
   "metadata": {},
   "outputs": [
    {
     "name": "stdout",
     "output_type": "stream",
     "text": [
      "Scraping Amazon.in for multiple categories...\n",
      "\n",
      "\n",
      "Scraping category: laptop\n",
      "Scraping: https://www.amazon.in/s?k=laptop&page=1\n",
      "Scraping: https://www.amazon.in/s?k=laptop&page=2\n",
      "Scraping: https://www.amazon.in/s?k=laptop&page=3\n",
      "\n",
      "Scraping category: smartphone\n",
      "Scraping: https://www.amazon.in/s?k=smartphone&page=1\n",
      "Scraping: https://www.amazon.in/s?k=smartphone&page=2\n",
      "Scraping: https://www.amazon.in/s?k=smartphone&page=3\n",
      "\n",
      "Scraping category: headphones\n",
      "Scraping: https://www.amazon.in/s?k=headphones&page=1\n",
      "Scraping: https://www.amazon.in/s?k=headphones&page=2\n",
      "Scraping: https://www.amazon.in/s?k=headphones&page=3\n",
      "\n",
      "Scraping category: books\n",
      "Scraping: https://www.amazon.in/s?k=books&page=1\n",
      "Scraping: https://www.amazon.in/s?k=books&page=2\n",
      "Scraping: https://www.amazon.in/s?k=books&page=3\n",
      "Saved 240 products to amazon_products.csv\n"
     ]
    }
   ],
   "source": [
    "import requests\n",
    "from bs4 import BeautifulSoup\n",
    "import pandas as pd\n",
    "import time\n",
    "import random\n",
    "from urllib.parse import quote_plus\n",
    "\n",
    "# ---------- CONFIGURABLE PART ----------\n",
    "SEARCH_QUERIES = [\"laptop\", \"smartphone\", \"headphones\", \"books\"]\n",
    "BASE_URL = \"https://www.amazon.in\"\n",
    "MAX_PAGES = 3  # Number of pages to scrape per category\n",
    "OUTPUT_FILE = \"amazon_products.csv\"\n",
    "\n",
    "HEADERS_LIST = [\n",
    "    {\n",
    "        \"User-Agent\": \"Mozilla/5.0 (Windows NT 10.0; Win64; x64)\",\n",
    "        \"Accept-Language\": \"en-US,en;q=0.9\"\n",
    "    },\n",
    "    {\n",
    "        \"User-Agent\": \"Mozilla/5.0 (Macintosh; Intel Mac OS X 10_15_7)\",\n",
    "        \"Accept-Language\": \"en-US,en;q=0.8\"\n",
    "    },\n",
    "    {\n",
    "        \"User-Agent\": \"Mozilla/5.0 (X11; Linux x86_64)\",\n",
    "        \"Accept-Language\": \"en-GB,en;q=0.7\"\n",
    "    }\n",
    "]\n",
    "\n",
    "# ---------- FUNCTION TO SCRAPE ONE PAGE ----------\n",
    "def scrape_page(url, category):\n",
    "    print(f\"Scraping: {url}\")\n",
    "    headers = random.choice(HEADERS_LIST)\n",
    "    response = requests.get(url, headers=headers)\n",
    "\n",
    "    if response.status_code != 200:\n",
    "        print(f\"Failed to fetch page: {url}, Status Code: {response.status_code}\")\n",
    "        return []\n",
    "\n",
    "    soup = BeautifulSoup(response.text, \"lxml\")\n",
    "    items = soup.select(\"div.s-main-slot div[data-component-type='s-search-result']\")\n",
    "\n",
    "    product_list = []\n",
    "\n",
    "    for item in items:\n",
    "        title = item.h2.text.strip() if item.h2 else None\n",
    "        link = BASE_URL + item.h2.a['href'] if item.h2 and item.h2.a else None\n",
    "\n",
    "        price_whole = item.select_one(\"span.a-price-whole\")\n",
    "        price_fraction = item.select_one(\"span.a-price-fraction\")\n",
    "        price = f\"{price_whole.text.strip().replace(',', '')}.{price_fraction.text.strip()}\" if price_whole and price_fraction else None\n",
    "\n",
    "        rating = item.select_one(\"span.a-icon-alt\")\n",
    "        rating = rating.text.strip() if rating else None\n",
    "\n",
    "        reviews = item.select_one(\"span.a-size-base\")\n",
    "        reviews = reviews.text.strip() if reviews else None\n",
    "\n",
    "        badge = item.select_one(\"span.s-label-popover-default\")\n",
    "        badge_text = badge.text.strip() if badge else None\n",
    "\n",
    "        image = item.select_one(\"img.s-image\")\n",
    "        image_url = image[\"src\"] if image else None\n",
    "\n",
    "        brand = item.select_one(\"span.a-size-base-plus.a-color-base\")\n",
    "        brand_name = brand.text.strip() if brand else None\n",
    "\n",
    "        delivery = item.select_one(\"span.a-color-base.a-text-bold\")\n",
    "        delivery_info = delivery.text.strip() if delivery else None\n",
    "\n",
    "        discount = item.select_one(\"span.a-letter-space + span.a-size-base.a-color-secondary\")\n",
    "        discount_text = discount.text.strip() if discount else None\n",
    "\n",
    "        product = {\n",
    "            \"Category\": category,\n",
    "            \"Title\": title,\n",
    "            \"Brand\": brand_name,\n",
    "            \"Price (INR)\": price,\n",
    "            \"Rating\": rating,\n",
    "            \"Review Count\": reviews,\n",
    "            \"Product Badge\": badge_text,\n",
    "            \"Product URL\": link,\n",
    "            \"Image URL\": image_url,\n",
    "            \"Delivery Info\": delivery_info,\n",
    "            \"Discount\": discount_text\n",
    "        }\n",
    "        product_list.append(product)\n",
    "\n",
    "    return product_list\n",
    "\n",
    "# ---------- MAIN SCRAPER LOOP ----------\n",
    "def scrape_amazon(queries, max_pages=1):\n",
    "    all_products = []\n",
    "\n",
    "    for query in queries:\n",
    "        print(f\"\\nScraping category: {query}\")\n",
    "        page = 1\n",
    "\n",
    "        while page <= max_pages:\n",
    "            search_url = f\"{BASE_URL}/s?k={quote_plus(query)}&page={page}\"\n",
    "            products = scrape_page(search_url, query)\n",
    "\n",
    "            if not products:\n",
    "                print(\"No products found or blocked. Stopping.\")\n",
    "                break\n",
    "\n",
    "            all_products.extend(products)\n",
    "\n",
    "            time.sleep(random.uniform(2, 5))\n",
    "            page += 1\n",
    "\n",
    "    return all_products\n",
    "\n",
    "# ---------- SAVE RESULTS ----------\n",
    "def save_to_csv(products, filename):\n",
    "    df = pd.DataFrame(products)\n",
    "    df.to_csv(filename, index=False)\n",
    "    print(f\"Saved {len(products)} products to {filename}\")\n",
    "\n",
    "# ---------- RUNNING THE SCRAPER ----------\n",
    "if __name__ == \"__main__\":\n",
    "    print(\"Scraping Amazon.in for multiple categories...\\n\")\n",
    "    data = scrape_amazon(SEARCH_QUERIES, MAX_PAGES)\n",
    "    save_to_csv(data, OUTPUT_FILE)"
   ]
  },
  {
   "cell_type": "code",
   "execution_count": 42,
   "id": "16464bac",
   "metadata": {},
   "outputs": [
    {
     "name": "stdout",
     "output_type": "stream",
     "text": [
      "--Successfully fetched the page!--\n",
      "Title ->\n",
      "    All products | Books to Scrape - Sandbox\n",
      "\n",
      "A Light in the Attic\n",
      "Tipping the Velvet\n",
      "Soumission\n",
      "Sharp Objects\n",
      "Sapiens: A Brief History of Humankind\n",
      "The Requiem Red\n",
      "The Dirty Little Secrets of Getting Your Dream Job\n",
      "The Coming Woman: A Novel Based on the Life of the Infamous Feminist, Victoria Woodhull\n",
      "The Boys in the Boat: Nine Americans and Their Epic Quest for Gold at the 1936 Berlin Olympics\n",
      "The Black Maria\n",
      "Starving Hearts (Triangular Trade Trilogy, #1)\n",
      "Shakespeare's Sonnets\n",
      "Set Me Free\n",
      "Scott Pilgrim's Precious Little Life (Scott Pilgrim #1)\n",
      "Rip it Up and Start Again\n",
      "Our Band Could Be Your Life: Scenes from the American Indie Underground, 1981-1991\n",
      "Olio\n",
      "Mesaerion: The Best Science Fiction Stories 1800-1849\n",
      "Libertarianism for Beginners\n",
      "It's Only the Himalayas\n"
     ]
    }
   ],
   "source": [
    "import requests\n",
    "from bs4 import BeautifulSoup\n",
    "\n",
    "url = 'https://books.toscrape.com/'\n",
    "#Fake user agent to avoid blocking\n",
    "headers = {\n",
    "    'User-Agent': 'Mozilla/5.0'\n",
    "}\n",
    "\n",
    "response = requests.get(url, headers=headers)\n",
    "#print(\"Status Code:\", response.status_code)\n",
    "print(\"--Successfully fetched the page!--\" if response.status_code == 200 else \"Failed to fetch the page\")\n",
    "\n",
    "soup = BeautifulSoup(response.text, 'html.parser')\n",
    "print(f'Title ->{soup.title.text}')  # Print the title of the page\n",
    "\n",
    "\n",
    "titles = soup.find_all('h3')\n",
    "for title in titles:\n",
    "    print(title.a['title'])  # Print the title of each book \n",
    "\n"
   ]
  },
  {
   "cell_type": "code",
   "execution_count": 43,
   "id": "37391ade",
   "metadata": {},
   "outputs": [
    {
     "name": "stdout",
     "output_type": "stream",
     "text": [
      "✅ Scraping complete. Saved to imdb_top_250.csv\n"
     ]
    }
   ],
   "source": [
    "import requests\n",
    "from bs4 import BeautifulSoup\n",
    "import pandas as pd\n",
    "\n",
    "# IMDb Top 250 URL\n",
    "url = \"https://www.imdb.com/chart/top/\"\n",
    "headers = {\n",
    "    \"User-Agent\": \"Mozilla/5.0\"\n",
    "}\n",
    "\n",
    "# Send request\n",
    "response = requests.get(url, headers=headers)\n",
    "soup = BeautifulSoup(response.text, \"html.parser\")\n",
    "\n",
    "# Find all movie rows\n",
    "movies = soup.select(\"tbody.lister-list tr\")\n",
    "\n",
    "data = []\n",
    "\n",
    "for movie in movies:\n",
    "    title_column = movie.find(\"td\", class_=\"titleColumn\")\n",
    "    title = title_column.a.text\n",
    "    year = title_column.span.text.strip(\"()\")\n",
    "    rating = movie.find(\"td\", class_=\"ratingColumn imdbRating\").strong.text\n",
    "    link = \"https://www.imdb.com\" + title_column.a['href'].split(\"?\")[0]\n",
    "\n",
    "    data.append({\n",
    "        \"Title\": title,\n",
    "        \"Year\": year,\n",
    "        \"Rating\": rating,\n",
    "        \"Link\": link\n",
    "    })\n",
    "\n",
    "# Save to CSV\n",
    "df = pd.DataFrame(data)\n",
    "df.to_csv(\"imdb_top_250.csv\", index=False)\n",
    "\n",
    "print(\"✅ Scraping complete. Saved to imdb_top_250.csv\")\n"
   ]
  },
  {
   "cell_type": "code",
   "execution_count": 44,
   "id": "f596990c",
   "metadata": {},
   "outputs": [
    {
     "name": "stdout",
     "output_type": "stream",
     "text": [
      "✅ Done! Data saved to imdb_top_250.csv\n"
     ]
    }
   ],
   "source": [
    "import requests\n",
    "from bs4 import BeautifulSoup\n",
    "import pandas as pd\n",
    "\n",
    "url = \"https://www.imdb.com/chart/top/\"\n",
    "headers = {\n",
    "    \"User-Agent\": \"Mozilla/5.0\"\n",
    "}\n",
    "\n",
    "response = requests.get(url, headers=headers)\n",
    "\n",
    "if response.status_code == 200:\n",
    "    soup = BeautifulSoup(response.text, \"html.parser\")\n",
    "\n",
    "    movies = soup.select(\"tbody.lister-list tr\")\n",
    "\n",
    "    data = []\n",
    "\n",
    "    for movie in movies:\n",
    "        title_column = movie.find(\"td\", class_=\"titleColumn\")\n",
    "        rating_column = movie.find(\"td\", class_=\"ratingColumn imdbRating\")\n",
    "\n",
    "        title = title_column.a.text.strip()\n",
    "        year = title_column.span.text.strip(\"()\")\n",
    "        rating = rating_column.strong.text.strip()\n",
    "        link = \"https://www.imdb.com\" + title_column.a[\"href\"].split(\"?\")[0]\n",
    "\n",
    "        data.append({\n",
    "            \"Title\": title,\n",
    "            \"Year\": year,\n",
    "            \"Rating\": rating,\n",
    "            \"Link\": link\n",
    "        })\n",
    "\n",
    "    df = pd.DataFrame(data)\n",
    "    df.to_csv(\"imdb_top_250.csv\", index=False)\n",
    "    print(\"✅ Done! Data saved to imdb_top_250.csv\")\n",
    "else:\n",
    "    print(\"❌ Failed to fetch page. Status code:\", response.status_code)\n"
   ]
  },
  {
   "cell_type": "code",
   "execution_count": 45,
   "id": "a7760995",
   "metadata": {},
   "outputs": [
    {
     "name": "stdout",
     "output_type": "stream",
     "text": [
      "\n",
      "📦 Starting category: laptop\n",
      "🔄 Scraping: laptop | Page 1\n",
      "🔄 Scraping: laptop | Page 2\n",
      "🔄 Scraping: laptop | Page 3\n",
      "🔄 Scraping: laptop | Page 4\n",
      "🔄 Scraping: laptop | Page 5\n",
      "✅ Saved 110 products to amazon_laptop.csv\n",
      "\n",
      "📦 Starting category: smartphone\n",
      "🔄 Scraping: smartphone | Page 1\n",
      "🔄 Scraping: smartphone | Page 2\n",
      "🔄 Scraping: smartphone | Page 3\n",
      "🔄 Scraping: smartphone | Page 4\n",
      "🔄 Scraping: smartphone | Page 5\n",
      "✅ Saved 110 products to amazon_smartphone.csv\n",
      "\n",
      "📦 Starting category: books\n",
      "🔄 Scraping: books | Page 1\n",
      "🔄 Scraping: books | Page 2\n",
      "🔄 Scraping: books | Page 3\n",
      "🔄 Scraping: books | Page 4\n",
      "🔄 Scraping: books | Page 5\n",
      "✅ Saved 110 products to amazon_books.csv\n",
      "\n",
      "📦 Starting category: headphones\n",
      "🔄 Scraping: headphones | Page 1\n",
      "🔄 Scraping: headphones | Page 2\n",
      "🔄 Scraping: headphones | Page 3\n",
      "🔄 Scraping: headphones | Page 4\n",
      "🔄 Scraping: headphones | Page 5\n",
      "✅ Saved 110 products to amazon_headphones.csv\n"
     ]
    }
   ],
   "source": [
    "import requests\n",
    "from bs4 import BeautifulSoup\n",
    "import pandas as pd\n",
    "import time\n",
    "import random\n",
    "\n",
    "# ---------- CONFIG ----------\n",
    "HEADERS = {\n",
    "    \"User-Agent\": \"Mozilla/5.0 (Windows NT 10.0; Win64; x64) AppleWebKit/537.36 (KHTML, like Gecko) Chrome/125.0.0.0 Safari/537.36\",\n",
    "    \"Accept-Language\": \"en-US,en;q=0.9\",\n",
    "    \"Referer\": \"https://www.google.com/\",\n",
    "}\n",
    "BASE_URL = \"https://www.amazon.in\"\n",
    "MAX_PAGES = 5  # Number of pages to scrape per category\n",
    "DELAY_RANGE = (1, 3)  # Min and max seconds between requests\n",
    "# ----------------------------\n",
    "\n",
    "def get_soup(url):\n",
    "    try:\n",
    "        response = requests.get(url, headers=HEADERS)\n",
    "        if response.status_code == 200:\n",
    "            return BeautifulSoup(response.text, \"html.parser\")\n",
    "        else:\n",
    "            print(f\"❌ Request failed. Status code: {response.status_code}\")\n",
    "            return None\n",
    "    except requests.exceptions.RequestException as e:\n",
    "        print(f\"⚠️ Request error: {e}\")\n",
    "        return None\n",
    "\n",
    "def extract_product_data(item):\n",
    "    title = item.h2.text.strip() if item.h2 else \"N/A\"\n",
    "\n",
    "    price_tag = item.find(\"span\", class_=\"a-price-whole\")\n",
    "    price = price_tag.text.strip().replace(\",\", \"\") if price_tag else \"N/A\"\n",
    "\n",
    "    rating_tag = item.find(\"span\", class_=\"a-icon-alt\")\n",
    "    rating = rating_tag.text.strip() if rating_tag else \"N/A\"\n",
    "\n",
    "    reviews_tag = item.find(\"span\", {\"class\": \"a-size-base\"})\n",
    "    reviews = reviews_tag.text.strip().replace(\",\", \"\") if reviews_tag else \"N/A\"\n",
    "\n",
    "    link = BASE_URL + item.h2.a[\"href\"] if item.h2 and item.h2.a else \"N/A\"\n",
    "\n",
    "    return {\n",
    "        \"Title\": title,\n",
    "        \"Price (INR)\": price,\n",
    "        \"Rating\": rating,\n",
    "        \"Reviews\": reviews,\n",
    "        \"Product Link\": link,\n",
    "    }\n",
    "\n",
    "def scrape_amazon_search(keyword, max_pages=MAX_PAGES):\n",
    "    all_products = []\n",
    "\n",
    "    for page in range(1, max_pages + 1):\n",
    "        print(f\"🔄 Scraping: {keyword} | Page {page}\")\n",
    "        search_url = f\"{BASE_URL}/s?k={keyword}&page={page}\"\n",
    "        soup = get_soup(search_url)\n",
    "        if not soup:\n",
    "            break\n",
    "\n",
    "        results = soup.find_all(\"div\", {\"data-component-type\": \"s-search-result\"})\n",
    "        if not results:\n",
    "            print(\"⚠️ No products found on this page.\")\n",
    "            break\n",
    "\n",
    "        for item in results:\n",
    "            product = extract_product_data(item)\n",
    "            all_products.append(product)\n",
    "\n",
    "        # Sleep randomly between requests to avoid being blocked\n",
    "        time.sleep(random.uniform(*DELAY_RANGE))\n",
    "\n",
    "    return all_products\n",
    "\n",
    "def save_to_csv(products, keyword):\n",
    "    df = pd.DataFrame(products)\n",
    "    filename = f\"amazon_{keyword.replace(' ', '_')}.csv\"\n",
    "    df.to_csv(filename, index=False)\n",
    "    print(f\"✅ Saved {len(products)} products to {filename}\")\n",
    "\n",
    "def main():\n",
    "    categories = [\"laptop\", \"smartphone\", \"books\", \"headphones\"]\n",
    "\n",
    "    for keyword in categories:\n",
    "        print(f\"\\n📦 Starting category: {keyword}\")\n",
    "        products = scrape_amazon_search(keyword)\n",
    "        save_to_csv(products, keyword)\n",
    "\n",
    "if __name__ == \"__main__\":\n",
    "    main()\n"
   ]
  },
  {
   "cell_type": "code",
   "execution_count": 46,
   "id": "946ef880",
   "metadata": {},
   "outputs": [
    {
     "name": "stdout",
     "output_type": "stream",
     "text": [
      "\n",
      "📦 Starting category: laptop\n",
      "🔄 Scraping: laptop | Page 1\n",
      "🔄 Scraping: laptop | Page 2\n",
      "🔄 Scraping: laptop | Page 3\n",
      "✅ Saved 66 products to amazon_laptop.csv\n"
     ]
    },
    {
     "name": "stderr",
     "output_type": "stream",
     "text": [
      "C:\\Users\\Prath\\AppData\\Local\\Temp\\ipykernel_17148\\276124147.py:107: FutureWarning: \n",
      "\n",
      "Passing `palette` without assigning `hue` is deprecated and will be removed in v0.14.0. Assign the `x` variable to `hue` and set `legend=False` for the same effect.\n",
      "\n",
      "  sns.barplot(x=top_brands.index, y=top_brands.values, palette=\"Blues_d\")\n"
     ]
    },
    {
     "data": {
      "image/png": "[encoded data removed]",
      "text/plain": [
       "<Figure size 1000x500 with 1 Axes>"
      ]
     },
     "metadata": {},
     "output_type": "display_data"
    },
    {
     "data": {
      "image/png": "[encoded data removed]",
      "text/plain": [
       "<Figure size 800x400 with 1 Axes>"
      ]
     },
     "metadata": {},
     "output_type": "display_data"
    },
    {
     "data": {
      "image/png": "[encoded data removed]",
      "text/plain": [
       "<Figure size 800x400 with 1 Axes>"
      ]
     },
     "metadata": {},
     "output_type": "display_data"
    }
   ],
   "source": [
    "import requests\n",
    "from bs4 import BeautifulSoup\n",
    "import pandas as pd\n",
    "import time\n",
    "import random\n",
    "import matplotlib.pyplot as plt\n",
    "import seaborn as sns\n",
    "\n",
    "# ---------- CONFIG ----------\n",
    "HEADERS = {\n",
    "    \"User-Agent\": \"Mozilla/5.0 (Windows NT 10.0; Win64; x64) AppleWebKit/537.36 (KHTML, like Gecko) Chrome/125.0.0.0 Safari/537.36\",\n",
    "    \"Accept-Language\": \"en-US,en;q=0.9\",\n",
    "    \"Referer\": \"https://www.google.com/\",\n",
    "}\n",
    "BASE_URL = \"https://www.amazon.in\"\n",
    "MAX_PAGES = 3  # Number of pages per category\n",
    "DELAY_RANGE = (1, 3)  # Delay between requests (in seconds)\n",
    "# ----------------------------\n",
    "\n",
    "def get_soup(url):\n",
    "    try:\n",
    "        response = requests.get(url, headers=HEADERS)\n",
    "        if response.status_code == 200:\n",
    "            return BeautifulSoup(response.text, \"html.parser\")\n",
    "        else:\n",
    "            print(f\"❌ Request failed. Status code: {response.status_code}\")\n",
    "            return None\n",
    "    except requests.exceptions.RequestException as e:\n",
    "        print(f\"⚠️ Request error: {e}\")\n",
    "        return None\n",
    "\n",
    "def extract_product_data(item):\n",
    "    title = item.h2.text.strip() if item.h2 else \"N/A\"\n",
    "    brand = title.split()[0] if title != \"N/A\" else \"N/A\"\n",
    "\n",
    "    price_tag = item.find(\"span\", class_=\"a-price-whole\")\n",
    "    price = price_tag.text.strip().replace(\",\", \"\") if price_tag else \"N/A\"\n",
    "\n",
    "    # MRP (struck-through price)\n",
    "    mrp_tag = item.find(\"span\", class_=\"a-price a-text-price\")\n",
    "    mrp = mrp_tag.find(\"span\", class_=\"a-offscreen\").text.strip().replace(\",\", \"\") if mrp_tag else \"N/A\"\n",
    "\n",
    "    # Offer (discount %)\n",
    "    offer_tag = item.find(\"span\", class_=\"a-letter-space\")\n",
    "    offer = offer_tag.find_next_sibling(\"span\").text.strip() if offer_tag else \"N/A\"\n",
    "\n",
    "    rating_tag = item.find(\"span\", class_=\"a-icon-alt\")\n",
    "    rating = rating_tag.text.strip().split(\" \")[0] if rating_tag else \"N/A\"\n",
    "\n",
    "    reviews_tag = item.find(\"span\", {\"class\": \"a-size-base\"})\n",
    "    reviews = reviews_tag.text.strip().replace(\",\", \"\") if reviews_tag else \"N/A\"\n",
    "\n",
    "    link = BASE_URL + item.h2.a[\"href\"] if item.h2 and item.h2.a else \"N/A\"\n",
    "\n",
    "    return {\n",
    "        \"Title\": title,\n",
    "        \"Brand\": brand,\n",
    "        \"MRP (INR)\": mrp,\n",
    "        \"Price (INR)\": price,\n",
    "        \"Offer\": offer,\n",
    "        \"Rating\": rating,\n",
    "        \"Reviews\": reviews,\n",
    "        \"Product Link\": link,\n",
    "    }\n",
    "\n",
    "def scrape_amazon_search(keyword, max_pages=MAX_PAGES):\n",
    "    all_products = []\n",
    "\n",
    "    for page in range(1, max_pages + 1):\n",
    "        print(f\"🔄 Scraping: {keyword} | Page {page}\")\n",
    "        search_url = f\"{BASE_URL}/s?k={keyword}&page={page}\"\n",
    "        soup = get_soup(search_url)\n",
    "        if not soup:\n",
    "            break\n",
    "\n",
    "        results = soup.find_all(\"div\", {\"data-component-type\": \"s-search-result\"})\n",
    "        if not results:\n",
    "            print(\"⚠️ No products found on this page.\")\n",
    "            break\n",
    "\n",
    "        for item in results:\n",
    "            product = extract_product_data(item)\n",
    "            all_products.append(product)\n",
    "\n",
    "        time.sleep(random.uniform(*DELAY_RANGE))\n",
    "\n",
    "    return all_products\n",
    "\n",
    "def save_to_csv(products, keyword):\n",
    "    df = pd.DataFrame(products)\n",
    "    filename = f\"amazon_{keyword.replace(' ', '_')}.csv\"\n",
    "    df.to_csv(filename, index=False)\n",
    "    print(f\"✅ Saved {len(products)} products to {filename}\")\n",
    "    return filename\n",
    "\n",
    "def visualize_data(filename):\n",
    "    df = pd.read_csv(filename)\n",
    "\n",
    "    # Clean data\n",
    "    df[\"Rating\"] = pd.to_numeric(df[\"Rating\"], errors='coerce')\n",
    "    df[\"Price (INR)\"] = pd.to_numeric(df[\"Price (INR)\"], errors='coerce')\n",
    "    df[\"Brand\"] = df[\"Brand\"].astype(str)\n",
    "\n",
    "    # Brand count\n",
    "    top_brands = df[\"Brand\"].value_counts().head(10)\n",
    "    plt.figure(figsize=(10, 5))\n",
    "    sns.barplot(x=top_brands.index, y=top_brands.values, palette=\"Blues_d\")\n",
    "    plt.title(\"Top 10 Brands by Product Count\")\n",
    "    plt.xlabel(\"Brand\")\n",
    "    plt.ylabel(\"Number of Products\")\n",
    "    plt.xticks(rotation=45)\n",
    "    plt.tight_layout()\n",
    "    plt.show()\n",
    "\n",
    "    # Rating distribution\n",
    "    plt.figure(figsize=(8, 4))\n",
    "    sns.histplot(df[\"Rating\"].dropna(), bins=10, kde=True, color='green')\n",
    "    plt.title(\"Rating Distribution\")\n",
    "    plt.xlabel(\"Rating\")\n",
    "    plt.ylabel(\"Number of Products\")\n",
    "    plt.tight_layout()\n",
    "    plt.show()\n",
    "\n",
    "    # Price distribution\n",
    "    plt.figure(figsize=(8, 4))\n",
    "    sns.boxplot(data=df, x=\"Price (INR)\", color=\"orange\")\n",
    "    plt.title(\"Price Distribution\")\n",
    "    plt.tight_layout()\n",
    "    plt.show()\n",
    "\n",
    "def main():\n",
    "    categories = [\"laptop\"]  # Add more: [\"laptop\", \"smartphone\", \"headphones\"]\n",
    "\n",
    "    for keyword in categories:\n",
    "        print(f\"\\n📦 Starting category: {keyword}\")\n",
    "        products = scrape_amazon_search(keyword)\n",
    "        if products:\n",
    "            filename = save_to_csv(products, keyword)\n",
    "            visualize_data(filename)\n",
    "\n",
    "if __name__ == \"__main__\":\n",
    "    main()\n"
   ]
  },
  {
   "cell_type": "code",
   "execution_count": null,
   "id": "05492ad3",
   "metadata": {},
   "outputs": [],
   "source": []
  }
 ],
 "metadata": {
  "kernelspec": {
   "display_name": "Python 3",
   "language": "python",
   "name": "python3"
  },
  "language_info": {
   "codemirror_mode": {
    "name": "ipython",
    "version": 3
   },
   "file_extension": ".py",
   "mimetype": "text/x-python",
   "name": "python",
   "nbconvert_exporter": "python",
   "pygments_lexer": "ipython3",
   "version": "3.12.4"
  }
 },
 "nbformat": 4,
 "nbformat_minor": 5
}
