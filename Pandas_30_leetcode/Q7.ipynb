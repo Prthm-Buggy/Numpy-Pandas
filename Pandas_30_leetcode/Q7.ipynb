{
 "cells": [
  {
   "cell_type": "code",
   "execution_count": null,
   "metadata": {},
   "outputs": [],
   "source": [
    "# 2883. Drop Missing Data\n",
    "# Write a solution to remove the rows with missing values.\n"
   ]
  },
  {
   "cell_type": "code",
   "execution_count": null,
   "metadata": {},
   "outputs": [],
   "source": [
    "\n",
    "# Example 1:\n",
    "\n",
    "# Input:\n",
    "# +------------+---------+-----+\n",
    "# | student_id | name    | age |\n",
    "# +------------+---------+-----+\n",
    "# | 32         | Piper   | 5   |\n",
    "# | 217        | None    | 19  |\n",
    "# | 779        | Georgia | 20  |\n",
    "# | 849        | Willow  | 14  |\n",
    "# +------------+---------+-----+\n",
    "# Output:\n",
    "# +------------+---------+-----+\n",
    "# | student_id | name    | age |\n",
    "# +------------+---------+-----+\n",
    "# | 32         | Piper   | 5   |\n",
    "# | 779        | Georgia | 20  | \n",
    "# | 849        | Willow  | 14  | \n",
    "# +------------+---------+-----+\n",
    "# Explanation: \n",
    "# Student with id 217 havs empty value in the name column, so it will be removed."
   ]
  },
  {
   "cell_type": "code",
   "execution_count": null,
   "metadata": {},
   "outputs": [
    {
     "name": "stdout",
     "output_type": "stream",
     "text": [
      "   student_id     name  age\n",
      "0          32    Piper    5\n",
      "2         779  Georgia   20\n",
      "3         849   Willow   14\n"
     ]
    }
   ],
   "source": [
    "import pandas as pd\n",
    "student = pd.DataFrame({\n",
    "    'student_id': [32, 217, 779, 849,111],\n",
    "    'name': ['Piper', None, 'Georgia', 'Willow',None],\n",
    "    'age': [5, 19, 20, 14,22]\n",
    "})\n",
    "\n",
    "def dropMissingData(students: pd.DataFrame) -> pd.DataFrame:\n",
    "    students.dropna(subset=['name'], inplace=True)# drop rows with missing values\n",
    "    return students\n",
    "output = dropMissingData(student)\n",
    "print(output)"
   ]
  }
 ],
 "metadata": {
  "kernelspec": {
   "display_name": "Python 3",
   "language": "python",
   "name": "python3"
  },
  "language_info": {
   "codemirror_mode": {
    "name": "ipython",
    "version": 3
   },
   "file_extension": ".py",
   "mimetype": "text/x-python",
   "name": "python",
   "nbconvert_exporter": "python",
   "pygments_lexer": "ipython3",
   "version": "3.12.4"
  }
 },
 "nbformat": 4,
 "nbformat_minor": 2
}
