{
 "cells": [
  {
   "cell_type": "code",
   "execution_count": null,
   "metadata": {},
   "outputs": [],
   "source": [
    "# 2877. Create a DataFrame from List"
   ]
  },
  {
   "cell_type": "code",
   "execution_count": null,
   "metadata": {},
   "outputs": [],
   "source": [
    "# Write a solution to create a DataFrame from a 2D list called student_data. This 2D list contains the IDs and ages of some students.\n",
    "# The DataFrame should have two columns, student_id and age, and be in the same order as the original 2D list."
   ]
  },
  {
   "cell_type": "code",
   "execution_count": null,
   "metadata": {},
   "outputs": [],
   "source": [
    "# Example 1:\n",
    "\n",
    "# Input:\n",
    "# student_data:\n",
    "# [\n",
    "#   [1, 15],\n",
    "#   [2, 11],\n",
    "#   [3, 11],\n",
    "#   [4, 20]\n",
    "# ]\n",
    "# Output:\n",
    "# +------------+-----+\n",
    "# | student_id | age |\n",
    "# +------------+-----+\n",
    "# | 1          | 15  |\n",
    "# | 2          | 11  |\n",
    "# | 3          | 11  |\n",
    "# | 4          | 20  |\n",
    "# +------------+-----+"
   ]
  },
  {
   "cell_type": "code",
   "execution_count": 3,
   "metadata": {},
   "outputs": [
    {
     "name": "stdout",
     "output_type": "stream",
     "text": [
      "   student_id  age\n",
      "0           1   15\n",
      "1           2   11\n",
      "2           3   11\n",
      "3           4   20\n"
     ]
    }
   ],
   "source": [
    "import pandas as pd\n",
    "\n",
    "student_data = [\n",
    "    [1, 15],\n",
    "    [2, 11],\n",
    "    [3, 11],\n",
    "    [4, 20]\n",
    "] \n",
    "\n",
    "def create_dataframe(student_data):\n",
    "    df = pd.DataFrame({'student_id': [row[0] for row in student_data], \n",
    "                   'age': [row[1] for row in student_data]})\n",
    "    return df\n",
    "\n",
    "output = create_dataframe(student_data)\n",
    "print(output)\n",
    "\n"
   ]
  },
  {
   "cell_type": "code",
   "execution_count": null,
   "metadata": {},
   "outputs": [],
   "source": [
    "# #using list comprehension\n",
    "# df = pd.DataFrame({'student_id': [row[0] for row in student_data], \n",
    "#                    'age': [row[1] for row in student_data]})\n",
    "# #using zip\n",
    "# df = pd.DataFrame(list(zip(*student_data)), columns=['student_id', 'age'])"
   ]
  }
 ],
 "metadata": {
  "kernelspec": {
   "display_name": "Python 3",
   "language": "python",
   "name": "python3"
  },
  "language_info": {
   "codemirror_mode": {
    "name": "ipython",
    "version": 3
   },
   "file_extension": ".py",
   "mimetype": "text/x-python",
   "name": "python",
   "nbconvert_exporter": "python",
   "pygments_lexer": "ipython3",
   "version": "3.12.4"
  }
 },
 "nbformat": 4,
 "nbformat_minor": 2
}
