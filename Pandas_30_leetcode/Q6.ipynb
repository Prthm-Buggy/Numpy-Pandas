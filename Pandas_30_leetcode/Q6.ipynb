{
 "cells": [
  {
   "cell_type": "code",
   "execution_count": null,
   "metadata": {},
   "outputs": [],
   "source": [
    "# 2880. Select Data\n",
    "# Write a solution to select the name and age of the student with student_id = 101."
   ]
  },
  {
   "cell_type": "code",
   "execution_count": null,
   "metadata": {},
   "outputs": [],
   "source": [
    "# Example 1:\n",
    "# Input:\n",
    "# +------------+---------+-----+\n",
    "# | student_id | name    | age |\n",
    "# +------------+---------+-----+\n",
    "# | 101        | Ulysses | 13  |\n",
    "# | 53         | William | 10  |\n",
    "# | 128        | Henry   | 6   |\n",
    "# | 3          | Henry   | 11  |\n",
    "# +------------+---------+-----+\n",
    "# Output:\n",
    "# +---------+-----+\n",
    "# | name    | age | \n",
    "# +---------+-----+\n",
    "# | Ulysses | 13  |\n",
    "# +---------+-----+\n",
    "# Explanation:\n",
    "# Student Ulysses has student_id = 101, we select the name and age."
   ]
  },
  {
   "cell_type": "code",
   "execution_count": 1,
   "metadata": {},
   "outputs": [
    {
     "name": "stdout",
     "output_type": "stream",
     "text": [
      "      name  age\n",
      "0  Ulysses   13\n"
     ]
    }
   ],
   "source": [
    "import pandas as pd\n",
    "\n",
    "students = pd.DataFrame({\n",
    "    \"student_id\": [101, 53, 128, 3],\n",
    "    \"name\": [\"Ulysses\", \"William\", \"Henry\", \"Henry\"],\n",
    "    \"age\": [13, 10, 6, 11]\n",
    "})\n",
    "\n",
    "def selectData(students: pd.DataFrame) -> pd.DataFrame:\n",
    "    return students.loc[students[\"student_id\"] == 101, [\"name\", \"age\"]]\n",
    "    #OR\n",
    "    return students.loc[students[\"student_id\"] == 101, \"name\" :]\n",
    "    #OR\n",
    "    return students[students['student_id'] == 101][['name', 'age']]\n",
    "\n",
    "output = selectData(students)\n",
    "print(output)\n"
   ]
  }
 ],
 "metadata": {
  "kernelspec": {
   "display_name": "Python 3",
   "language": "python",
   "name": "python3"
  },
  "language_info": {
   "codemirror_mode": {
    "name": "ipython",
    "version": 3
   },
   "file_extension": ".py",
   "mimetype": "text/x-python",
   "name": "python",
   "nbconvert_exporter": "python",
   "pygments_lexer": "ipython3",
   "version": "3.12.4"
  }
 },
 "nbformat": 4,
 "nbformat_minor": 2
}
