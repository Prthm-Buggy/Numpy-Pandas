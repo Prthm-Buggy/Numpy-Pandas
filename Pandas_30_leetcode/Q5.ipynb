{
 "cells": [
  {
   "cell_type": "code",
   "execution_count": null,
   "metadata": {},
   "outputs": [],
   "source": [
    "# 2882. Drop Duplicate Rows\n",
    "# Write a solution to remove these duplicate rows and keep only the first occurrence.\n"
   ]
  },
  {
   "cell_type": "code",
   "execution_count": null,
   "metadata": {},
   "outputs": [],
   "source": [
    "\n",
    "# Example 1:\n",
    "# Input:\n",
    "# +-------------+---------+---------------------+\n",
    "# | customer_id | name    | email               |\n",
    "# +-------------+---------+---------------------+\n",
    "# | 1           | Ella    | emily@example.com   |\n",
    "# | 2           | David   | michael@example.com |\n",
    "# | 3           | Zachary | sarah@example.com   |\n",
    "# | 4           | Alice   | john@example.com    |\n",
    "# | 5           | Finn    | john@example.com    |\n",
    "# | 6           | Violet  | alice@example.com   |\n",
    "# +-------------+---------+---------------------+\n",
    "# Output:  \n",
    "# +-------------+---------+---------------------+\n",
    "# | customer_id | name    | email               |\n",
    "# +-------------+---------+---------------------+\n",
    "# | 1           | Ella    | emily@example.com   |\n",
    "# | 2           | David   | michael@example.com |\n",
    "# | 3           | Zachary | sarah@example.com   |\n",
    "# | 4           | Alice   | john@example.com    |\n",
    "# | 6           | Violet  | alice@example.com   |\n",
    "# +-------------+---------+---------------------+"
   ]
  },
  {
   "cell_type": "code",
   "execution_count": 6,
   "metadata": {},
   "outputs": [
    {
     "name": "stdout",
     "output_type": "stream",
     "text": [
      "   customer_id     name                 email\n",
      "0            1     Ella     emily@exmpale.com\n",
      "1            2    David  michael@example.com \n",
      "2            3  Zachary      john@example.com\n",
      "3            4    Alice     sarah@exmaple.com\n",
      "5            6   Violet    alice@example.com \n"
     ]
    }
   ],
   "source": [
    "import pandas as pd\n",
    "\n",
    "customer = pd.DataFrame({\n",
    "    'customer_id': [1, 2, 3, 4, 5, 6],\n",
    "    'name': ['Ella', 'David', 'Zachary', 'Alice', 'Finn', 'Violet'],\n",
    "    'email': ['emily@exmpale.com', 'michael@example.com ','john@example.com','sarah@exmaple.com','john@example.com'\n",
    "              ,'alice@example.com ']\n",
    "})\n",
    "def dropDuplicateEmails(customers: pd.DataFrame) -> pd.DataFrame:\n",
    "    return customers.drop_duplicates(subset='email')\n",
    "    \n",
    "output = dropDuplicateEmails(customer)\n",
    "print(output)"
   ]
  }
 ],
 "metadata": {
  "kernelspec": {
   "display_name": "Python 3",
   "language": "python",
   "name": "python3"
  },
  "language_info": {
   "codemirror_mode": {
    "name": "ipython",
    "version": 3
   },
   "file_extension": ".py",
   "mimetype": "text/x-python",
   "name": "python",
   "nbconvert_exporter": "python",
   "pygments_lexer": "ipython3",
   "version": "3.12.4"
  }
 },
 "nbformat": 4,
 "nbformat_minor": 2
}
