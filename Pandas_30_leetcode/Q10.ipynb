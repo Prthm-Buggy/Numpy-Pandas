{
 "cells": [
  {
   "cell_type": "code",
   "execution_count": null,
   "metadata": {},
   "outputs": [],
   "source": [
    "# 2886. Change Data Type\n",
    "# Write a solution to correct the errors:\n",
    "# The grade column is stored as floats, convert it to integers."
   ]
  },
  {
   "cell_type": "code",
   "execution_count": null,
   "metadata": {},
   "outputs": [],
   "source": [
    " # Example 1:\n",
    "# Input:\n",
    "# DataFrame students:\n",
    "# +------------+------+-----+-------+\n",
    "# | student_id | name | age | grade |\n",
    "# +------------+------+-----+-------+\n",
    "# | 1          | Ava  | 6   | 73.0  |\n",
    "# | 2          | Kate | 15  | 87.0  |\n",
    "# +------------+------+-----+-------+\n",
    "# Output:\n",
    "# +------------+------+-----+-------+\n",
    "# | student_id | name | age | grade |\n",
    "# +------------+------+-----+-------+\n",
    "# | 1          | Ava  | 6   | 73    |\n",
    "# | 2          | Kate | 15  | 87    |\n",
    "# +------------+------+-----+-------+\n",
    "# Explanation: \n",
    "# The data types of the column grade is converted to int."
   ]
  },
  {
   "cell_type": "code",
   "execution_count": 1,
   "metadata": {},
   "outputs": [
    {
     "name": "stdout",
     "output_type": "stream",
     "text": [
      "   student_id  name  age  grade\n",
      "0           1   Ava    6     73\n",
      "1           2  Kate   15     87\n"
     ]
    }
   ],
   "source": [
    "import pandas as pd\n",
    "\n",
    "students = pd.DataFrame({\n",
    "    'student_id': [1, 2],\n",
    "    'name': ['Ava', 'Kate'],\n",
    "    'age': [6, 15],\n",
    "    'grade': [73.0, 87.0]\n",
    "})\n",
    "\n",
    "def changeDatatype(students: pd.DataFrame) -> pd.DataFrame:\n",
    "    students = students.astype({'grade': int})\n",
    "    return students\n",
    "output = changeDatatype(students)\n",
    "print(output)\n",
    "    "
   ]
  }
 ],
 "metadata": {
  "kernelspec": {
   "display_name": "Python 3",
   "language": "python",
   "name": "python3"
  },
  "language_info": {
   "codemirror_mode": {
    "name": "ipython",
    "version": 3
   },
   "file_extension": ".py",
   "mimetype": "text/x-python",
   "name": "python",
   "nbconvert_exporter": "python",
   "pygments_lexer": "ipython3",
   "version": "3.12.4"
  }
 },
 "nbformat": 4,
 "nbformat_minor": 2
}
