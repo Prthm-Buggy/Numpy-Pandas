{
 "cells": [
  {
   "cell_type": "code",
   "execution_count": null,
   "metadata": {},
   "outputs": [],
   "source": [
    "#2879. Display the First Three Rows\n",
    "# Write a solution to display the first 3 rows of this DataFrame."
   ]
  },
  {
   "cell_type": "code",
   "execution_count": null,
   "metadata": {},
   "outputs": [],
   "source": [
    "# Example 1:\n",
    "\n",
    "# Input:\n",
    "# DataFrame employees\n",
    "# +-------------+-----------+-----------------------+--------+\n",
    "# | employee_id | name      | department            | salary |\n",
    "# +-------------+-----------+-----------------------+--------+\n",
    "# | 3           | Bob       | Operations            | 48675  |\n",
    "# | 90          | Alice     | Sales                 | 11096  |\n",
    "# | 9           | Tatiana   | Engineering           | 33805  |\n",
    "# | 60          | Annabelle | InformationTechnology | 37678  |\n",
    "# | 49          | Jonathan  | HumanResources        | 23793  |\n",
    "# | 43          | Khaled    | Administration        | 40454  |\n",
    "# +-------------+-----------+-----------------------+--------+\n",
    "# Output:\n",
    "# +-------------+---------+-------------+--------+\n",
    "# | employee_id | name    | department  | salary |\n",
    "# +-------------+---------+-------------+--------+\n",
    "# | 3           | Bob     | Operations  | 48675  |\n",
    "# | 90          | Alice   | Sales       | 11096  |\n",
    "# | 9           | Tatiana | Engineering | 33805  |\n",
    "# +-------------+---------+-------------+--------+"
   ]
  },
  {
   "cell_type": "code",
   "execution_count": null,
   "metadata": {},
   "outputs": [
    {
     "name": "stdout",
     "output_type": "stream",
     "text": [
      "   employee_id     name   department  salary\n",
      "0            3      Bob   Operations   48675\n",
      "1           90    Alice        Sales   11096\n",
      "2            9  Tatiana  Engineering   33805\n"
     ]
    }
   ],
   "source": [
    "employees = selectFirstRows(pd.DataFrame({\n",
    "    'employee_id': [3, 90, 9, 60, 49, 43],\n",
    "    'name': ['Bob', 'Alice', 'Tatiana', 'Annabelle', 'Jonathan', 'Khaled'],\n",
    "    'department': ['Operations', 'Sales', 'Engineering', 'InformationTechnology', 'HumanResources', 'Administration'],\n",
    "    'salary': [48675, 11096, 33805, 37678, 23793, 40454]\n",
    "}))\n",
    "\n",
    "import pandas as pd\n",
    "def selectFirstRows(employees: pd.DataFrame) -> pd.DataFrame:\n",
    "    return employees[0:3]\n",
    "    # return employees.head(3)\n",
    "    # return employees.iloc[0:3]\n",
    "    #return employees.loc[0:2]\n",
    "    #return employees[:3]\n",
    "\n",
    "output = selectFirstRows(employees)\n",
    "print(output)\n",
    "# +-------------+---------+-------------+--------+"
   ]
  },
  {
   "cell_type": "code",
   "execution_count": null,
   "metadata": {},
   "outputs": [],
   "source": []
  }
 ],
 "metadata": {
  "kernelspec": {
   "display_name": "Python 3",
   "language": "python",
   "name": "python3"
  },
  "language_info": {
   "codemirror_mode": {
    "name": "ipython",
    "version": 3
   },
   "file_extension": ".py",
   "mimetype": "text/x-python",
   "name": "python",
   "nbconvert_exporter": "python",
   "pygments_lexer": "ipython3",
   "version": "3.12.4"
  }
 },
 "nbformat": 4,
 "nbformat_minor": 2
}
