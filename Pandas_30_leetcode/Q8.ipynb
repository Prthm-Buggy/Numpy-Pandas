{
 "cells": [
  {
   "cell_type": "code",
   "execution_count": null,
   "metadata": {},
   "outputs": [],
   "source": [
    "# 2884. Modify Columns\n",
    "# Write a solution to modify the salary column by multiplying each salary by 2."
   ]
  },
  {
   "cell_type": "code",
   "execution_count": null,
   "metadata": {},
   "outputs": [],
   "source": [
    "# Example 1:\n",
    "# Input:\n",
    "# DataFrame employees\n",
    "# +---------+--------+\n",
    "# | name    | salary |\n",
    "# +---------+--------+\n",
    "# | Jack    | 19666  |\n",
    "# | Piper   | 74754  |\n",
    "# | Mia     | 62509  |\n",
    "# | Ulysses | 54866  |\n",
    "# +---------+--------+\n",
    "# Output:\n",
    "# +---------+--------+\n",
    "# | name    | salary |\n",
    "# +---------+--------+\n",
    "# | Jack    | 39332  |\n",
    "# | Piper   | 149508 |\n",
    "# | Mia     | 125018 |\n",
    "# | Ulysses | 109732 |\n",
    "# +---------+--------+\n",
    "# Explanation:\n",
    "# Every salary has been doubled."
   ]
  },
  {
   "cell_type": "code",
   "execution_count": 3,
   "metadata": {},
   "outputs": [
    {
     "name": "stdout",
     "output_type": "stream",
     "text": [
      "      name  salary\n",
      "0     Jack   39332\n",
      "1    Piper  149508\n",
      "2      Mia  125018\n",
      "3  Ulysses  109732\n"
     ]
    }
   ],
   "source": [
    "import pandas as pd\n",
    "employee = pd.DataFrame({\n",
    "    'name': ['Jack', 'Piper', 'Mia', 'Ulysses'],\n",
    "    'salary': [19666, 74754, 62509, 54866]\n",
    "})  \n",
    "\n",
    "def modifySalaryColumn(employees: pd.DataFrame) -> pd.DataFrame:\n",
    "    employees['salary']  = employees['salary'] * 2\n",
    "    return employees\n",
    "output = modifySalaryColumn(employee)\n",
    "print(output)"
   ]
  }
 ],
 "metadata": {
  "kernelspec": {
   "display_name": "Python 3",
   "language": "python",
   "name": "python3"
  },
  "language_info": {
   "codemirror_mode": {
    "name": "ipython",
    "version": 3
   },
   "file_extension": ".py",
   "mimetype": "text/x-python",
   "name": "python",
   "nbconvert_exporter": "python",
   "pygments_lexer": "ipython3",
   "version": "3.12.4"
  }
 },
 "nbformat": 4,
 "nbformat_minor": 2
}
