{
 "cells": [
  {
   "cell_type": "code",
   "execution_count": null,
   "metadata": {},
   "outputs": [],
   "source": [
    "# 2881. Create a New Column"
   ]
  },
  {
   "cell_type": "code",
   "execution_count": null,
   "metadata": {},
   "outputs": [],
   "source": [
    "# Write a solution to create a new column name bonus that contains the doubled values of the salary column.\n",
    "# Example 1:\n",
    "\n",
    "# Input:\n",
    "# DataFrame employees\n",
    "# +---------+--------+\n",
    "# | name    | salary |\n",
    "# +---------+--------+\n",
    "# | Piper   | 4548   |\n",
    "# | Grace   | 28150  |\n",
    "# | Georgia | 1103   |\n",
    "# | Willow  | 6593   |\n",
    "# | Finn    | 74576  |\n",
    "# | Thomas  | 24433  |\n",
    "# +---------+--------+\n",
    "# Output:\n",
    "# +---------+--------+--------+\n",
    "# | name    | salary | bonus  |\n",
    "# +---------+--------+--------+\n",
    "# | Piper   | 4548   | 9096   |\n",
    "# | Grace   | 28150  | 56300  |\n",
    "# | Georgia | 1103   | 2206   |\n",
    "# | Willow  | 6593   | 13186  |\n",
    "# | Finn    | 74576  | 149152 |\n",
    "# | Thomas  | 24433  | 48866  |\n",
    "# +---------+--------+--------+"
   ]
  },
  {
   "cell_type": "code",
   "execution_count": null,
   "metadata": {},
   "outputs": [
    {
     "name": "stdout",
     "output_type": "stream",
     "text": [
      "      name  salary   bonus\n",
      "0    Piper    4548    9096\n",
      "1    Grace   28150   56300\n",
      "2  Georgia    1103    2206\n",
      "3   Willow    6593   13186\n",
      "4     Finn   74576  149152\n",
      "5   Thomas   24433   48866\n"
     ]
    }
   ],
   "source": [
    "import pandas as pd\n",
    "employee = pd.DataFrame({\n",
    "    'name': ['Piper', 'Grace', 'Georgia', 'Willow', 'Finn', 'Thomas'], \n",
    "    'salary': [4548, 28150, 1103, 6593, 74576, 24433]\n",
    "})\n",
    "\n",
    "def createBonusColumn(employees: pd.DataFrame) -> pd.DataFrame:\n",
    "    employees['bonus'] = employees['salary'] + employees['salary'] #Create a new column bonus that contains\n",
    "    return employees\n",
    "output = createBonusColumn(employee)\n",
    "print(output)"
   ]
  },
  {
   "cell_type": "code",
   "execution_count": null,
   "metadata": {},
   "outputs": [],
   "source": []
  },
  {
   "cell_type": "code",
   "execution_count": null,
   "metadata": {},
   "outputs": [],
   "source": []
  }
 ],
 "metadata": {
  "kernelspec": {
   "display_name": "Python 3",
   "language": "python",
   "name": "python3"
  },
  "language_info": {
   "codemirror_mode": {
    "name": "ipython",
    "version": 3
   },
   "file_extension": ".py",
   "mimetype": "text/x-python",
   "name": "python",
   "nbconvert_exporter": "python",
   "pygments_lexer": "ipython3",
   "version": "3.12.4"
  }
 },
 "nbformat": 4,
 "nbformat_minor": 2
}
