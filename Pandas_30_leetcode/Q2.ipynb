{
 "cells": [
  {
   "cell_type": "code",
   "execution_count": null,
   "metadata": {},
   "outputs": [],
   "source": [
    "# 2878. Get the Size of a DataFrame"
   ]
  },
  {
   "cell_type": "code",
   "execution_count": null,
   "metadata": {},
   "outputs": [],
   "source": [
    "# Write a solution to calculate and display the number of rows and columns of players.\n",
    "# Return the result as an array:\n",
    "# [number of rows, number of columns]"
   ]
  },
  {
   "cell_type": "code",
   "execution_count": null,
   "metadata": {},
   "outputs": [],
   "source": [
    "# Example 1:\n",
    "\n",
    "# Input:\n",
    "# +-----------+----------+-----+-------------+--------------------+\n",
    "# | player_id | name     | age | position    | team               |\n",
    "# +-----------+----------+-----+-------------+--------------------+\n",
    "# | 846       | Mason    | 21  | Forward     | RealMadrid         |\n",
    "# | 749       | Riley    | 30  | Winger      | Barcelona          |\n",
    "# | 155       | Bob      | 28  | Striker     | ManchesterUnited   |\n",
    "# | 583       | Isabella | 32  | Goalkeeper  | Liverpool          |\n",
    "# | 388       | Zachary  | 24  | Midfielder  | BayernMunich       |\n",
    "# | 883       | Ava      | 23  | Defender    | Chelsea            |\n",
    "# | 355       | Violet   | 18  | Striker     | Juventus           |\n",
    "# | 247       | Thomas   | 27  | Striker     | ParisSaint-Germain |\n",
    "# | 761       | Jack     | 33  | Midfielder  | ManchesterCity     |\n",
    "# | 642       | Charlie  | 36  | Center-back | Arsenal            |\n",
    "# +-----------+----------+-----+-------------+--------------------+\n",
    "# Output:\n",
    "# [10, 5]"
   ]
  },
  {
   "cell_type": "code",
   "execution_count": null,
   "metadata": {},
   "outputs": [
    {
     "name": "stdout",
     "output_type": "stream",
     "text": [
      "The number of rows and columns of players is: None\n"
     ]
    }
   ],
   "source": [
    "import pandas as pd\n",
    "from typing import List\n",
    "\n",
    "players = pd.DataFrame({\n",
    "    'player_id': [846, 749, 155, 583, 388, 883, 355, 247, 761, 642],\n",
    "    'name': ['Mason', 'Riley', 'Bob', 'Isabella', 'Zachary', 'Ava', 'Violet', 'Thomas', 'Jack', 'Charlie'],\n",
    "    'age': [21, 30, 28, 32, 24, 23, 18, 27, 33, 36],\n",
    "    'position': ['Forward', 'Winger', 'Striker', 'Goalkeeper', 'Midfielder', 'Defender', 'Striker', 'Striker', 'Midfielder', 'Center-back'],\n",
    "    'team': ['RealMadrid', 'Barcelona', 'ManchesterUnited', 'Liverpool', 'BayernMunich', 'Chelsea', 'Juventus', 'ParisSaint-Germain', 'ManchesterCity', 'Arsenal']\n",
    "})\n",
    "\n",
    "def getDataframeSize(players: pd.DataFrame) -> List[int]:\n",
    "    return players.shape\n",
    "\n",
    "output = getDataframeSize(players)\n",
    "print(f'The number of rows and columns of players is: {output}')"
   ]
  }
 ],
 "metadata": {
  "kernelspec": {
   "display_name": "Python 3",
   "language": "python",
   "name": "python3"
  },
  "language_info": {
   "codemirror_mode": {
    "name": "ipython",
    "version": 3
   },
   "file_extension": ".py",
   "mimetype": "text/x-python",
   "name": "python",
   "nbconvert_exporter": "python",
   "pygments_lexer": "ipython3",
   "version": "3.12.4"
  }
 },
 "nbformat": 4,
 "nbformat_minor": 2
}
