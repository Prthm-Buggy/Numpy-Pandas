{
 "cells": [
  {
   "cell_type": "code",
   "execution_count": null,
   "metadata": {},
   "outputs": [],
   "source": [
    "# 2885. Rename Columns\n",
    "# Write a solution to rename the columns as follows:\n",
    "\n",
    "# id to student_id\n",
    "# first to first_name\n",
    "# last to last_name\n",
    "# age to age_in_years\n",
    "# The result format is in the following example.\n"
   ]
  },
  {
   "cell_type": "code",
   "execution_count": null,
   "metadata": {},
   "outputs": [],
   "source": [
    "# Example 1:\n",
    "# Input:\n",
    "# +----+---------+----------+-----+\n",
    "# | id | first   | last     | age |\n",
    "# +----+---------+----------+-----+\n",
    "# | 1  | Mason   | King     | 6   |\n",
    "# | 2  | Ava     | Wright   | 7   |\n",
    "# | 3  | Taylor  | Hall     | 16  |\n",
    "# | 4  | Georgia | Thompson | 18  |\n",
    "# | 5  | Thomas  | Moore    | 10  |\n",
    "# +----+---------+----------+-----+\n",
    "# Output:\n",
    "# +------------+------------+-----------+--------------+\n",
    "# | student_id | first_name | last_name | age_in_years |\n",
    "# +------------+------------+-----------+--------------+\n",
    "# | 1          | Mason      | King      | 6            |\n",
    "# | 2          | Ava        | Wright    | 7            |\n",
    "# | 3          | Taylor     | Hall      | 16           |\n",
    "# | 4          | Georgia    | Thompson  | 18           |\n",
    "# | 5          | Thomas     | Moore     | 10           |\n",
    "# +------------+------------+-----------+--------------+\n",
    "# Explanation: \n",
    "# The column names are changed accordingly."
   ]
  },
  {
   "cell_type": "code",
   "execution_count": 3,
   "metadata": {},
   "outputs": [
    {
     "name": "stdout",
     "output_type": "stream",
     "text": [
      "The org data is: \n",
      "   id    first      last  age\n",
      "0   1    Mason      King    6\n",
      "1   2      Ava    Wright    7\n",
      "2   3   Taylor      Hall   16\n",
      "3   4  Georgia  Thompson   18\n",
      "4   5   Thomas     Moore   10\n",
      "   student_id first_name last_name  age_in_years\n",
      "0           1      Mason      King             6\n",
      "1           2        Ava    Wright             7\n",
      "2           3     Taylor      Hall            16\n",
      "3           4    Georgia  Thompson            18\n",
      "4           5     Thomas     Moore            10\n"
     ]
    }
   ],
   "source": [
    "import pandas as pd\n",
    "\n",
    "students = pd.DataFrame({\n",
    "    'id': [1, 2, 3, 4, 5],\n",
    "    'first': ['Mason', 'Ava', 'Taylor', 'Georgia', 'Thomas'],\n",
    "    'last': ['King', 'Wright', 'Hall', 'Thompson', 'Moore'],\n",
    "    'age': [6, 7, 16, 18, 10]\n",
    "})\n",
    "\n",
    "def renameColumns(students: pd.DataFrame) -> pd.DataFrame:\n",
    "    print(f'The org data is: \\n{students}')\n",
    "    students.rename(columns = {'id':'student_id', 'first':'first_name',\"last\" : \"last_name\", 'age':'age_in_years'}, inplace = True)\n",
    "    \n",
    "    return students\n",
    "output = renameColumns(students)\n",
    "print(output)\n"
   ]
  }
 ],
 "metadata": {
  "kernelspec": {
   "display_name": "Python 3",
   "language": "python",
   "name": "python3"
  },
  "language_info": {
   "codemirror_mode": {
    "name": "ipython",
    "version": 3
   },
   "file_extension": ".py",
   "mimetype": "text/x-python",
   "name": "python",
   "nbconvert_exporter": "python",
   "pygments_lexer": "ipython3",
   "version": "3.12.4"
  }
 },
 "nbformat": 4,
 "nbformat_minor": 2
}
