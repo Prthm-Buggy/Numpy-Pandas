{
 "cells": [
  {
   "cell_type": "code",
   "execution_count": null,
   "id": "981a2f14",
   "metadata": {},
   "outputs": [],
   "source": [
    "# Print Name N times using Recursion\n",
    "# 1 ≤ N ≤ 1000\n",
    "# You must use recursion (not loops!)"
   ]
  },
  {
   "cell_type": "code",
   "execution_count": 12,
   "id": "59c13e97",
   "metadata": {},
   "outputs": [],
   "source": [
    "def print_name(n, name):\n",
    "    print(name  if n == 1 else print_name(n - 1, name))\n",
    "    return name\n"
   ]
  },
  {
   "cell_type": "code",
   "execution_count": 13,
   "id": "7c6b9052",
   "metadata": {},
   "outputs": [
    {
     "name": "stdout",
     "output_type": "stream",
     "text": [
      "recersion\n",
      "recersion\n",
      "recersion\n",
      "recersion\n",
      "recersion\n"
     ]
    }
   ],
   "source": [
    "output = print_name(5, \"recersion\")"
   ]
  }
 ],
 "metadata": {
  "kernelspec": {
   "display_name": "Python 3",
   "language": "python",
   "name": "python3"
  },
  "language_info": {
   "codemirror_mode": {
    "name": "ipython",
    "version": 3
   },
   "file_extension": ".py",
   "mimetype": "text/x-python",
   "name": "python",
   "nbconvert_exporter": "python",
   "pygments_lexer": "ipython3",
   "version": "3.12.4"
  }
 },
 "nbformat": 4,
 "nbformat_minor": 5
}
