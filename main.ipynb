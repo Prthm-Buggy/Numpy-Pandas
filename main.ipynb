{
 "cells": [
  {
   "cell_type": "code",
   "execution_count": null,
   "metadata": {},
   "outputs": [
    {
     "name": "stdout",
     "output_type": "stream",
     "text": [
      "Requirement already satisfied: numpy in c:\\users\\prath\\appdata\\local\\programs\\python\\python312\\lib\\site-packages (2.0.0)\n"
     ]
    },
    {
     "name": "stderr",
     "output_type": "stream",
     "text": [
      "\n",
      "[notice] A new release of pip is available: 24.3.1 -> 25.0.1\n",
      "[notice] To update, run: python.exe -m pip install --upgrade pip\n"
     ]
    }
   ],
   "source": [
    "# What is NumPy?\n",
    "# NumPy is a powerful library for numerical computing in Python. It provides support for arrays, matrices, \n",
    "# and many mathematical functions to operate on these data structures efficiently.\n",
    "#! pip install numpy"
   ]
  },
  {
   "cell_type": "code",
   "execution_count": 8,
   "metadata": {},
   "outputs": [],
   "source": [
    "import numpy as np"
   ]
  },
  {
   "cell_type": "code",
   "execution_count": 27,
   "metadata": {},
   "outputs": [
    {
     "name": "stdout",
     "output_type": "stream",
     "text": [
      "Python List: [[1, 2, 3, 4, 5]]\n",
      "NumPy Array: [[1 2 3 4 5]]\n"
     ]
    }
   ],
   "source": [
    "import numpy as np\n",
    "\n",
    "# Creating a NumPy array from a Python list\n",
    "my_list = [[1, 2, 3, 4, 5]]\n",
    "my_array = np.array(my_list)\n",
    "\n",
    "print(\"Python List:\", my_list)\n",
    "print(\"NumPy Array:\", my_array)"
   ]
  },
  {
   "cell_type": "code",
   "execution_count": 32,
   "metadata": {},
   "outputs": [
    {
     "name": "stdout",
     "output_type": "stream",
     "text": [
      "The Type of the List is <class 'list'>\n",
      "No of Dimensions in the List is 2\n",
      "The Shape of the List is (1, 5)\n"
     ]
    }
   ],
   "source": [
    "print(f'The Type of the List is {type(my_list)}')\n",
    "print(f'No of Dimensions in the List is {np.ndim(my_list)}')\n",
    "print(f'The Shape of the List is {np.shape(my_list)}')"
   ]
  },
  {
   "cell_type": "code",
   "execution_count": 34,
   "metadata": {},
   "outputs": [
    {
     "name": "stdout",
     "output_type": "stream",
     "text": [
      "[[1 2 3]\n",
      " [4 5 6]\n",
      " [7 8 9]]\n"
     ]
    }
   ],
   "source": [
    "mymatrix = np.array([[1, 2, 3], [4, 5, 6], [7, 8, 9]])\n",
    "print(mymatrix)"
   ]
  }
 ],
 "metadata": {
  "kernelspec": {
   "display_name": "Python 3",
   "language": "python",
   "name": "python3"
  },
  "language_info": {
   "codemirror_mode": {
    "name": "ipython",
    "version": 3
   },
   "file_extension": ".py",
   "mimetype": "text/x-python",
   "name": "python",
   "nbconvert_exporter": "python",
   "pygments_lexer": "ipython3",
   "version": "3.12.4"
  }
 },
 "nbformat": 4,
 "nbformat_minor": 2
}
