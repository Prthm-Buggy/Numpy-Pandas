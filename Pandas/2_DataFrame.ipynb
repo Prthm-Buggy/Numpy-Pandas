{
 "cells": [
  {
   "cell_type": "code",
   "execution_count": 1,
   "metadata": {},
   "outputs": [],
   "source": [
    "import pandas as pd\n",
    "import numpy as np"
   ]
  },
  {
   "cell_type": "code",
   "execution_count": 2,
   "metadata": {},
   "outputs": [],
   "source": [
    "from numpy.random import randn"
   ]
  },
  {
   "cell_type": "code",
   "execution_count": 3,
   "metadata": {},
   "outputs": [],
   "source": [
    "# Selection and Indexing\n",
    "# Let's learn the various methods to grab data from a DataFrame"
   ]
  },
  {
   "cell_type": "code",
   "execution_count": 4,
   "metadata": {},
   "outputs": [
    {
     "name": "stdout",
     "output_type": "stream",
     "text": [
      "          W         X         Y         Z\n",
      "A  0.883893  0.195865  0.357537 -2.343262\n",
      "B -1.084833  0.559696  0.939469 -0.978481\n",
      "C  0.503097  0.406414  0.323461 -0.493411\n",
      "D -0.792017 -0.842368 -1.279503  0.245715\n",
      "E -0.044195  1.567633  1.051109  0.406368\n"
     ]
    }
   ],
   "source": [
    "np.random.seed(20)\n",
    "df = pd.DataFrame(randn(5,4),index='A,B,C,D,E'.split(','),columns='W,X,Y,Z'.split(','))\n",
    "print(df)"
   ]
  },
  {
   "cell_type": "code",
   "execution_count": 5,
   "metadata": {},
   "outputs": [
    {
     "data": {
      "text/plain": [
       "pandas.core.frame.DataFrame"
      ]
     },
     "execution_count": 5,
     "metadata": {},
     "output_type": "execute_result"
    }
   ],
   "source": [
    "# df.X\n",
    "# df.count\n",
    "df['X'].dtype\n",
    "type(df[['X']])\n",
    "# df[['X','Y','Z']]"
   ]
  },
  {
   "cell_type": "code",
   "execution_count": 6,
   "metadata": {},
   "outputs": [
    {
     "name": "stdout",
     "output_type": "stream",
     "text": [
      "          W         X         Y         Z   new_col  Temp\n",
      "A  0.883893  0.195865  0.357537 -2.343262  1.241430    10\n",
      "B -1.084833  0.559696  0.939469 -0.978481 -0.145363    20\n",
      "C  0.503097  0.406414  0.323461 -0.493411  0.826558    30\n",
      "D -0.792017 -0.842368 -1.279503  0.245715 -2.071519    40\n",
      "E -0.044195  1.567633  1.051109  0.406368  1.006914    50\n"
     ]
    }
   ],
   "source": [
    "df['new_col'] = df['W'] + df['Y']\n",
    "df['Temp'] = [10,20,30,40,50]\n",
    "print(df)"
   ]
  },
  {
   "cell_type": "code",
   "execution_count": 7,
   "metadata": {},
   "outputs": [
    {
     "data": {
      "text/html": [
       "<div>\n",
       "<style scoped>\n",
       "    .dataframe tbody tr th:only-of-type {\n",
       "        vertical-align: middle;\n",
       "    }\n",
       "\n",
       "    .dataframe tbody tr th {\n",
       "        vertical-align: top;\n",
       "    }\n",
       "\n",
       "    .dataframe thead th {\n",
       "        text-align: right;\n",
       "    }\n",
       "</style>\n",
       "<table border=\"1\" class=\"dataframe\">\n",
       "  <thead>\n",
       "    <tr style=\"text-align: right;\">\n",
       "      <th></th>\n",
       "      <th>W</th>\n",
       "      <th>X</th>\n",
       "      <th>Y</th>\n",
       "      <th>Z</th>\n",
       "      <th>new_col</th>\n",
       "    </tr>\n",
       "  </thead>\n",
       "  <tbody>\n",
       "    <tr>\n",
       "      <th>A</th>\n",
       "      <td>0.883893</td>\n",
       "      <td>0.195865</td>\n",
       "      <td>0.357537</td>\n",
       "      <td>-2.343262</td>\n",
       "      <td>1.241430</td>\n",
       "    </tr>\n",
       "    <tr>\n",
       "      <th>B</th>\n",
       "      <td>-1.084833</td>\n",
       "      <td>0.559696</td>\n",
       "      <td>0.939469</td>\n",
       "      <td>-0.978481</td>\n",
       "      <td>-0.145363</td>\n",
       "    </tr>\n",
       "    <tr>\n",
       "      <th>C</th>\n",
       "      <td>0.503097</td>\n",
       "      <td>0.406414</td>\n",
       "      <td>0.323461</td>\n",
       "      <td>-0.493411</td>\n",
       "      <td>0.826558</td>\n",
       "    </tr>\n",
       "    <tr>\n",
       "      <th>D</th>\n",
       "      <td>-0.792017</td>\n",
       "      <td>-0.842368</td>\n",
       "      <td>-1.279503</td>\n",
       "      <td>0.245715</td>\n",
       "      <td>-2.071519</td>\n",
       "    </tr>\n",
       "    <tr>\n",
       "      <th>E</th>\n",
       "      <td>-0.044195</td>\n",
       "      <td>1.567633</td>\n",
       "      <td>1.051109</td>\n",
       "      <td>0.406368</td>\n",
       "      <td>1.006914</td>\n",
       "    </tr>\n",
       "  </tbody>\n",
       "</table>\n",
       "</div>"
      ],
      "text/plain": [
       "          W         X         Y         Z   new_col\n",
       "A  0.883893  0.195865  0.357537 -2.343262  1.241430\n",
       "B -1.084833  0.559696  0.939469 -0.978481 -0.145363\n",
       "C  0.503097  0.406414  0.323461 -0.493411  0.826558\n",
       "D -0.792017 -0.842368 -1.279503  0.245715 -2.071519\n",
       "E -0.044195  1.567633  1.051109  0.406368  1.006914"
      ]
     },
     "execution_count": 7,
     "metadata": {},
     "output_type": "execute_result"
    }
   ],
   "source": [
    "dropdf = df.drop('Temp',axis=1)\n",
    "dropdf"
   ]
  },
  {
   "cell_type": "code",
   "execution_count": 9,
   "metadata": {},
   "outputs": [
    {
     "data": {
      "text/html": [
       "<div>\n",
       "<style scoped>\n",
       "    .dataframe tbody tr th:only-of-type {\n",
       "        vertical-align: middle;\n",
       "    }\n",
       "\n",
       "    .dataframe tbody tr th {\n",
       "        vertical-align: top;\n",
       "    }\n",
       "\n",
       "    .dataframe thead th {\n",
       "        text-align: right;\n",
       "    }\n",
       "</style>\n",
       "<table border=\"1\" class=\"dataframe\">\n",
       "  <thead>\n",
       "    <tr style=\"text-align: right;\">\n",
       "      <th></th>\n",
       "      <th>name</th>\n",
       "      <th>population</th>\n",
       "      <th>area</th>\n",
       "    </tr>\n",
       "  </thead>\n",
       "  <tbody>\n",
       "    <tr>\n",
       "      <th>0</th>\n",
       "      <td>USA</td>\n",
       "      <td>331000000</td>\n",
       "      <td>9525067</td>\n",
       "    </tr>\n",
       "    <tr>\n",
       "      <th>1</th>\n",
       "      <td>China</td>\n",
       "      <td>1441000000</td>\n",
       "      <td>9596961</td>\n",
       "    </tr>\n",
       "    <tr>\n",
       "      <th>2</th>\n",
       "      <td>India</td>\n",
       "      <td>138000000</td>\n",
       "      <td>3287263</td>\n",
       "    </tr>\n",
       "    <tr>\n",
       "      <th>3</th>\n",
       "      <td>Russia</td>\n",
       "      <td>146000000</td>\n",
       "      <td>17098242</td>\n",
       "    </tr>\n",
       "    <tr>\n",
       "      <th>4</th>\n",
       "      <td>Brazil</td>\n",
       "      <td>213000000</td>\n",
       "      <td>8515767</td>\n",
       "    </tr>\n",
       "    <tr>\n",
       "      <th>5</th>\n",
       "      <td>Canada</td>\n",
       "      <td>38000000</td>\n",
       "      <td>9984670</td>\n",
       "    </tr>\n",
       "    <tr>\n",
       "      <th>6</th>\n",
       "      <td>Australia</td>\n",
       "      <td>26000000</td>\n",
       "      <td>7692024</td>\n",
       "    </tr>\n",
       "  </tbody>\n",
       "</table>\n",
       "</div>"
      ],
      "text/plain": [
       "        name  population      area\n",
       "0        USA   331000000   9525067\n",
       "1      China  1441000000   9596961\n",
       "2      India   138000000   3287263\n",
       "3     Russia   146000000  17098242\n",
       "4     Brazil   213000000   8515767\n",
       "5     Canada    38000000   9984670\n",
       "6  Australia    26000000   7692024"
      ]
     },
     "execution_count": 9,
     "metadata": {},
     "output_type": "execute_result"
    }
   ],
   "source": [
    "data = {\n",
    "    'name': ['USA', 'China', 'India', 'Russia', 'Brazil', 'Canada', 'Australia'],\n",
    "    'population': [331000000, 1441000_000, 138000000, 146000000, 213000000, 38000000, 26000000],\n",
    "    'area': [9525067, 9596961, 3287263, 17098242, 8515767, 9984670, 7692024]\n",
    "}\n",
    "world = pd.DataFrame(data)\n",
    "world\n"
   ]
  },
  {
   "cell_type": "code",
   "execution_count": null,
   "metadata": {},
   "outputs": [],
   "source": []
  },
  {
   "cell_type": "code",
   "execution_count": null,
   "metadata": {},
   "outputs": [],
   "source": []
  },
  {
   "cell_type": "code",
   "execution_count": null,
   "metadata": {},
   "outputs": [],
   "source": []
  },
  {
   "cell_type": "code",
   "execution_count": null,
   "metadata": {},
   "outputs": [],
   "source": []
  },
  {
   "cell_type": "code",
   "execution_count": null,
   "metadata": {},
   "outputs": [],
   "source": []
  },
  {
   "cell_type": "code",
   "execution_count": null,
   "metadata": {},
   "outputs": [],
   "source": []
  },
  {
   "cell_type": "code",
   "execution_count": null,
   "metadata": {},
   "outputs": [],
   "source": []
  },
  {
   "cell_type": "code",
   "execution_count": null,
   "metadata": {},
   "outputs": [],
   "source": []
  }
 ],
 "metadata": {
  "kernelspec": {
   "display_name": "Python 3",
   "language": "python",
   "name": "python3"
  },
  "language_info": {
   "codemirror_mode": {
    "name": "ipython",
    "version": 3
   },
   "file_extension": ".py",
   "mimetype": "text/x-python",
   "name": "python",
   "nbconvert_exporter": "python",
   "pygments_lexer": "ipython3",
   "version": "3.12.4"
  }
 },
 "nbformat": 4,
 "nbformat_minor": 2
}
