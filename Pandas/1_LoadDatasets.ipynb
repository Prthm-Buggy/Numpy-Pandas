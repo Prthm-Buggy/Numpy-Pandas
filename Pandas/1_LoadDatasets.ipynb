{
 "cells": [
  {
   "cell_type": "code",
   "execution_count": 10,
   "metadata": {},
   "outputs": [],
   "source": [
    "import numpy as np\n",
    "import seaborn as sns\n",
    "import pandas as pd"
   ]
  },
  {
   "cell_type": "code",
   "execution_count": 11,
   "metadata": {},
   "outputs": [
    {
     "name": "stdout",
     "output_type": "stream",
     "text": [
      "   survived  pclass     sex   age  sibsp  parch     fare embarked  class  \\\n",
      "0         0       3    male  22.0      1      0   7.2500        S  Third   \n",
      "1         1       1  female  38.0      1      0  71.2833        C  First   \n",
      "2         1       3  female  26.0      0      0   7.9250        S  Third   \n",
      "3         1       1  female  35.0      1      0  53.1000        S  First   \n",
      "4         0       3    male  35.0      0      0   8.0500        S  Third   \n",
      "\n",
      "     who  adult_male deck  embark_town alive  alone  \n",
      "0    man        True  NaN  Southampton    no  False  \n",
      "1  woman       False    C    Cherbourg   yes  False  \n",
      "2  woman       False  NaN  Southampton   yes   True  \n",
      "3  woman       False    C  Southampton   yes  False  \n",
      "4    man        True  NaN  Southampton    no   True  \n"
     ]
    }
   ],
   "source": [
    "# Load an inbuilt dataset\n",
    "df = sns.load_dataset(\"titanic\")  # Example dataset\n",
    "print(df.head())  # Show first 5 rows"
   ]
  },
  {
   "cell_type": "code",
   "execution_count": 12,
   "metadata": {},
   "outputs": [],
   "source": [
    "df = pd.read_csv(\"C:\\\\Code\\\\Numpy-Pandas\\\\Datasets\\\\pokemon_data.csv\")  # Load a dataset from a file\n",
    "# pd.read_excel\n",
    "# pd.read_json\n",
    "# pd.read_sql\n",
    "# pd.read_html\n"
   ]
  },
  {
   "cell_type": "code",
   "execution_count": 13,
   "metadata": {},
   "outputs": [
    {
     "data": {
      "text/plain": [
       "dict"
      ]
     },
     "execution_count": 13,
     "metadata": {},
     "output_type": "execute_result"
    }
   ],
   "source": [
    "labels = ['a','b','c']\n",
    "my_list = [10,20,30]\n",
    "arr = np.array([10,20,30])\n",
    "d = {'apple':10,'banana':20,'cherry':30}\n",
    "type(d)"
   ]
  },
  {
   "cell_type": "code",
   "execution_count": 14,
   "metadata": {},
   "outputs": [
    {
     "name": "stdout",
     "output_type": "stream",
     "text": [
      "This is a list: \n",
      "[10, 20, 30]\n",
      "This is a series: \n",
      "0    10\n",
      "1    20\n",
      "2    30\n",
      "dtype: int64\n"
     ]
    }
   ],
   "source": [
    "# Creating a Series from a list\n",
    "# You can convert a list, numpy array, or dictionary to a Series:\n",
    "create_series = pd.Series(data=my_list)\n",
    "print(f'This is a list: \\n{my_list}')\n",
    "print(f'This is a series: \\n{create_series}')"
   ]
  },
  {
   "cell_type": "code",
   "execution_count": 15,
   "metadata": {},
   "outputs": [
    {
     "name": "stdout",
     "output_type": "stream",
     "text": [
      "This is original series: \n",
      "0    10\n",
      "1    20\n",
      "2    30\n",
      "dtype: int64\n",
      "This is modified series: \n",
      "x    10\n",
      "y    20\n",
      "z    30\n",
      "dtype: int64\n"
     ]
    }
   ],
   "source": [
    "print(f'This is original series: \\n{create_series}')\n",
    "modified_series = pd.Series(data=my_list, index=['x','y','z'])\n",
    "print(f'This is modified series: \\n{modified_series}')"
   ]
  },
  {
   "cell_type": "code",
   "execution_count": 16,
   "metadata": {},
   "outputs": [
    {
     "name": "stdout",
     "output_type": "stream",
     "text": [
      "20\n"
     ]
    },
    {
     "name": "stderr",
     "output_type": "stream",
     "text": [
      "C:\\Users\\Prath\\AppData\\Local\\Temp\\ipykernel_22688\\1877399633.py:1: FutureWarning: Series.__getitem__ treating keys as positions is deprecated. In a future version, integer keys will always be treated as labels (consistent with DataFrame behavior). To access a value by position, use `ser.iloc[pos]`\n",
      "  print(modified_series[1]) #accessing element by index\n"
     ]
    }
   ],
   "source": [
    "print(modified_series[1]) #accessing element by index"
   ]
  },
  {
   "cell_type": "code",
   "execution_count": 17,
   "metadata": {},
   "outputs": [
    {
     "data": {
      "text/plain": [
       "a      2\n",
       "b     34\n",
       "c     54\n",
       "d     56\n",
       "e     88\n",
       "f     38\n",
       "g     99\n",
       "h    100\n",
       "dtype: int64"
      ]
     },
     "execution_count": 17,
     "metadata": {},
     "output_type": "execute_result"
    }
   ],
   "source": [
    "myarray = [2,34,54,56, 88, 38, 99, 100]\n",
    "labels = ['a','b','c','d','e','f','g','h']\n",
    "len(myarray)\n",
    "arrayseries = pd.Series(data=myarray, index= labels) #creating a series from a list\n",
    "arrayseries"
   ]
  },
  {
   "cell_type": "code",
   "execution_count": null,
   "metadata": {},
   "outputs": [
    {
     "name": "stdout",
     "output_type": "stream",
     "text": [
      "      Name  Age         Power\n",
      "0     Loki  100         Magic\n",
      "1     Thor  200       Thunder\n",
      "2     Hulk  300      Strength\n",
      "3  Ironman  400  Intelligence\n"
     ]
    }
   ],
   "source": [
    "#dataframes are a collection of series\n",
    "#used to store tabular data\n",
    "data = {\n",
    "    'Name': ['Loki', 'Thor', 'Hulk', 'Ironman'],\n",
    "    'Age':[100, 200, 300, 400],\n",
    "    'Power':['Magic', 'Thunder', 'Strength', 'Intelligence']\n",
    "}\n",
    "print(pd.DataFrame(data)) #creating a dataframe from a dictionary\n"
   ]
  },
  {
   "cell_type": "code",
   "execution_count": 21,
   "metadata": {},
   "outputs": [
    {
     "data": {
      "text/plain": [
       "Germany    4.0\n",
       "Italy      NaN\n",
       "Japan      8.0\n",
       "USA        2.0\n",
       "USSR       NaN\n",
       "dtype: float64"
      ]
     },
     "execution_count": 21,
     "metadata": {},
     "output_type": "execute_result"
    }
   ],
   "source": [
    "#Adding two series\n",
    "ser1 = pd.Series([1,2,3,4],['USA', 'Germany', 'USSR', 'Japan'])\n",
    "ser2 = pd.Series([1,2,5,4],['USA', 'Germany', 'Italy', 'Japan'])\n",
    "ser1 + ser2\n"
   ]
  }
 ],
 "metadata": {
  "kernelspec": {
   "display_name": "Python 3",
   "language": "python",
   "name": "python3"
  },
  "language_info": {
   "codemirror_mode": {
    "name": "ipython",
    "version": 3
   },
   "file_extension": ".py",
   "mimetype": "text/x-python",
   "name": "python",
   "nbconvert_exporter": "python",
   "pygments_lexer": "ipython3",
   "version": "3.12.4"
  }
 },
 "nbformat": 4,
 "nbformat_minor": 2
}
